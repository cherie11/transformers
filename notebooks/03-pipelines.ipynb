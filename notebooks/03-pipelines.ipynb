{
 "cells": [
  {
   "cell_type": "markdown",
   "metadata": {
    "colab_type": "text",
    "id": "qUU7wy-brl_H",
    "pycharm": {
     "name": "#%% md\n"
    }
   },
   "source": [
    "## How can I leverage State-of-the-Art Natural Language Models with only one line of code ?"
   ]
  },
  {
   "cell_type": "markdown",
   "metadata": {
    "colab_type": "text",
    "id": "-HLOHXuArl_L",
    "pycharm": {
     "name": "#%% md\n"
    }
   },
   "source": [
    "Newly introduced in transformers v2.3.0, **pipelines** provides a high-level, easy to use,\n",
    "API for doing inference over a variety of downstream-tasks, including: \n",
    "\n",
    "- ***Sentence Classification _(Sentiment Analysis)_***: Indicate if the overall sentence is either positive or negative, i.e. *binary classification task* or *logitic regression task*.\n",
    "- ***Token Classification (Named Entity Recognition, Part-of-Speech tagging)***: For each sub-entities _(*tokens*)_ in the input, assign them a label, i.e. classification task.\n",
    "- ***Question-Answering***: Provided a tuple (`question`, `context`) the model should find the span of text in `content` answering the `question`.\n",
    "- ***Mask-Filling***: Suggests possible word(s) to fill the masked input with respect to the provided `context`.\n",
    "- ***Summarization***: Summarizes the ``input`` article to a shorter article.\n",
    "- ***Translation***: Translates the input from a language to another language.\n",
    "- ***Feature Extraction***: Maps the input to a higher, multi-dimensional space learned from the data.\n",
    "\n",
    "Pipelines encapsulate the overall process of every NLP process:\n",
    " \n",
    " 1. *Tokenization*: Split the initial input into multiple sub-entities with ... properties (i.e. tokens).\n",
    " 2. *Inference*: Maps every tokens into a more meaningful representation. \n",
    " 3. *Decoding*: Use the above representation to generate and/or extract the final output for the underlying task.\n",
    "\n",
    "The overall API is exposed to the end-user through the `pipeline()` method with the following \n",
    "structure:\n",
    "\n",
    "```python\n",
    "from transformers import pipeline\n",
    "\n",
    "# Using default model and tokenizer for the task\n",
    "pipeline(\"<task-name>\")\n",
    "\n",
    "# Using a user-specified model\n",
    "pipeline(\"<task-name>\", model=\"<model_name>\")\n",
    "\n",
    "# Using custom model/tokenizer as str\n",
    "pipeline('<task-name>', model='<model name>', tokenizer='<tokenizer_name>')\n",
    "```"
   ]
  },
  {
   "cell_type": "code",
   "execution_count": null,
   "metadata": {
    "colab": {},
    "colab_type": "code",
    "id": "4maAknWNrl_N",
    "pycharm": {
     "name": "#%% code\n"
    }
   },
   "outputs": [],
   "source": [
    "!pip install -q transformers"
   ]
  },
  {
   "cell_type": "code",
   "execution_count": 2,
   "metadata": {
    "colab": {},
    "colab_type": "code",
    "id": "uKaqzCh6rl_V",
    "pycharm": {
     "is_executing": false,
     "name": "#%% code \n"
    }
   },
   "outputs": [],
   "source": [
    "from __future__ import print_function\n",
    "import ipywidgets as widgets\n",
    "from transformers import pipeline"
   ]
  },
  {
   "cell_type": "markdown",
   "metadata": {
    "colab_type": "text",
    "id": "uDPZ42Uerl_b",
    "pycharm": {
     "name": "#%% md\n"
    }
   },
   "source": [
    "## 1. Sentence Classification - Sentiment Analysis"
   ]
  },
  {
   "cell_type": "code",
   "execution_count": 3,
   "metadata": {
    "colab": {
     "base_uri": "https://localhost:8080/",
     "height": 83,
     "referenced_widgets": [
      "4bab5df43b3c46caadf48e264344ab42",
      "9b426c68631f4bb288e2ca79aad9f9d9",
      "6902104f7ec143519fb1a6ab9363d4a0",
      "c133fb34fe2a4aba8a6b233671af8b04",
      "e3f72d443a74414ca62c2b848d34b125",
      "5462b581976e47048642aa6bc12435bd",
      "ad84da685cf44abb90d17d9d2e023b48",
      "a246f9eea2d7440cb979e728741d2e32"
     ]
    },
    "colab_type": "code",
    "id": "AMRXHQw9rl_d",
    "outputId": "a7a10851-b71e-4553-9afc-04066120410d",
    "pycharm": {
     "is_executing": false,
     "name": "#%% code\n"
    }
   },
   "outputs": [
    {
     "data": {
      "application/vnd.jupyter.widget-view+json": {
       "model_id": "4bab5df43b3c46caadf48e264344ab42",
       "version_major": 2,
       "version_minor": 0
      },
      "text/plain": [
       "HBox(children=(IntProgress(value=0, description='Downloading', max=230, style=ProgressStyle(description_width=…"
      ]
     },
     "metadata": {
      "tags": []
     },
     "output_type": "display_data"
    },
    {
     "name": "stdout",
     "output_type": "stream",
     "text": [
      "\n"
     ]
    },
    {
     "data": {
      "text/plain": [
       "[{'label': 'POSITIVE', 'score': 0.9997656}]"
      ]
     },
     "execution_count": 3,
     "metadata": {
      "tags": []
     },
     "output_type": "execute_result"
    }
   ],
   "source": [
    "nlp_sentence_classif = pipeline('sentiment-analysis')\n",
    "nlp_sentence_classif('Such a nice weather outside !')"
   ]
  },
  {
   "cell_type": "markdown",
   "metadata": {
    "colab_type": "text",
    "id": "RY8aUJTvrl_k",
    "pycharm": {
     "name": "#%% md\n"
    }
   },
   "source": [
    "## 2. Token Classification - Named Entity Recognition"
   ]
  },
  {
   "cell_type": "code",
   "execution_count": 4,
   "metadata": {
    "colab": {
     "base_uri": "https://localhost:8080/",
     "height": 185,
     "referenced_widgets": [
      "451464c936444ba5a652b46c1b4f9931",
      "279291efd2c14a9eb2c3b98efbf152ad",
      "b6e1a2e57f4948a39283f1370352612c",
      "9d4941ebdfa64978b47232f6e5908d97",
      "1006cc0fab1e4139bb7b135486261c92",
      "691c0bae60364890ab74934261207d4d",
      "405afa5bb8b840d8bc0850e02f593ce4",
      "78c718e3d5fa4cb892217260bea6d540"
     ]
    },
    "colab_type": "code",
    "id": "B3BDRX_Krl_n",
    "outputId": "a6b90b11-a272-4ecb-960d-4c682551b399",
    "pycharm": {
     "is_executing": false,
     "name": "#%% code\n"
    }
   },
   "outputs": [
    {
     "data": {
      "application/vnd.jupyter.widget-view+json": {
       "model_id": "451464c936444ba5a652b46c1b4f9931",
       "version_major": 2,
       "version_minor": 0
      },
      "text/plain": [
       "HBox(children=(IntProgress(value=0, description='Downloading', max=230, style=ProgressStyle(description_width=…"
      ]
     },
     "metadata": {
      "tags": []
     },
     "output_type": "display_data"
    },
    {
     "name": "stdout",
     "output_type": "stream",
     "text": [
      "\n"
     ]
    },
    {
     "data": {
      "text/plain": [
       "[{'entity': 'I-ORG', 'score': 0.9970937967300415, 'word': 'Hu'},\n",
       " {'entity': 'I-ORG', 'score': 0.9345749020576477, 'word': '##gging'},\n",
       " {'entity': 'I-ORG', 'score': 0.9787060022354126, 'word': 'Face'},\n",
       " {'entity': 'I-MISC', 'score': 0.9981995820999146, 'word': 'French'},\n",
       " {'entity': 'I-LOC', 'score': 0.9983047246932983, 'word': 'New'},\n",
       " {'entity': 'I-LOC', 'score': 0.8913459181785583, 'word': '-'},\n",
       " {'entity': 'I-LOC', 'score': 0.9979523420333862, 'word': 'York'}]"
      ]
     },
     "execution_count": 4,
     "metadata": {
      "tags": []
     },
     "output_type": "execute_result"
    }
   ],
   "source": [
    "nlp_token_class = pipeline('ner')\n",
    "nlp_token_class('Hugging Face is a French company based in New-York.')"
   ]
  },
  {
   "cell_type": "markdown",
   "metadata": {
    "colab_type": "text",
    "id": "qIvUFEVarl_s"
   },
   "source": [
    "## 3. Question Answering"
   ]
  },
  {
   "cell_type": "code",
   "execution_count": 5,
   "metadata": {
    "colab": {
     "base_uri": "https://localhost:8080/",
     "height": 117,
     "referenced_widgets": [
      "7d66a4534c164d2f9493fc0467abebbd",
      "7a15588f85b14f2b93e32b4c0442fa1b",
      "213567d815894ca08041f6d682ced3c9",
      "ee6c95e700e64d0a9ebec2c1545dd083",
      "3e556abf5c4a4ee69d52366fd59471b2",
      "876b2eba73fa46a6a941d2e3a8a975ad",
      "cd64e3f20b23483daa79712bde6622ea",
      "67cbaa1f55d24e62ad6b022af36bca56"
     ]
    },
    "colab_type": "code",
    "id": "ND_8LzQKrl_u",
    "outputId": "c59ae695-c465-4de6-fa6e-181d8f1a3992",
    "pycharm": {
     "is_executing": false,
     "name": "#%% code\n"
    }
   },
   "outputs": [
    {
     "data": {
      "application/vnd.jupyter.widget-view+json": {
       "model_id": "7d66a4534c164d2f9493fc0467abebbd",
       "version_major": 2,
       "version_minor": 0
      },
      "text/plain": [
       "HBox(children=(IntProgress(value=0, description='Downloading', max=230, style=ProgressStyle(description_width=…"
      ]
     },
     "metadata": {
      "tags": []
     },
     "output_type": "display_data"
    },
    {
     "name": "stdout",
     "output_type": "stream",
     "text": [
      "\n"
     ]
    },
    {
     "name": "stderr",
     "output_type": "stream",
     "text": [
      "convert squad examples to features: 100%|██████████| 1/1 [00:00<00:00, 142.60it/s]\n",
      "add example index and unique id: 100%|██████████| 1/1 [00:00<00:00, 4341.93it/s]\n"
     ]
    },
    {
     "data": {
      "text/plain": [
       "{'answer': 'New-York.', 'end': 50, 'score': 0.9632969241603995, 'start': 42}"
      ]
     },
     "execution_count": 5,
     "metadata": {
      "tags": []
     },
     "output_type": "execute_result"
    }
   ],
   "source": [
    "nlp_qa = pipeline('question-answering')\n",
    "nlp_qa(context='Hugging Face is a French company based in New-York.', question='Where is based Hugging Face ?')"
   ]
  },
  {
   "cell_type": "markdown",
   "metadata": {
    "colab_type": "text",
    "id": "9W_CnP5Zrl_2"
   },
   "source": [
    "## 4. Text Generation - Mask Filling"
   ]
  },
  {
   "cell_type": "code",
   "execution_count": 6,
   "metadata": {
    "colab": {
     "base_uri": "https://localhost:8080/",
     "height": 321,
     "referenced_widgets": [
      "58669943d3064f309436157270544c08",
      "3eff293c2b554d85aefaea863e29b678",
      "d0b9925f3dde46008bf186cf5ef7722d",
      "427e07ce24a442af84ddc71f9463fdff",
      "1eb2fa080ec44f8c8d5f6f52900277ab",
      "23377596349e40a89ea57c8558660073",
      "a35703cc8ff44e93a8c0eb413caddc40",
      "9df7014c99b343f3b178fa020ff56010"
     ]
    },
    "colab_type": "code",
    "id": "zpJQ2HXNrl_4",
    "outputId": "3fb62e7a-25a6-4b06-ced8-51eb8aa6bf33",
    "pycharm": {
     "is_executing": false,
     "name": "#%% code\n"
    }
   },
   "outputs": [
    {
     "data": {
      "application/vnd.jupyter.widget-view+json": {
       "model_id": "58669943d3064f309436157270544c08",
       "version_major": 2,
       "version_minor": 0
      },
      "text/plain": [
       "HBox(children=(IntProgress(value=0, description='Downloading', max=230, style=ProgressStyle(description_width=…"
      ]
     },
     "metadata": {
      "tags": []
     },
     "output_type": "display_data"
    },
    {
     "name": "stdout",
     "output_type": "stream",
     "text": [
      "\n"
     ]
    },
    {
     "data": {
      "text/plain": [
       "[{'score': 0.23106741905212402,\n",
       "  'sequence': '<s> Hugging Face is a French company based in Paris</s>',\n",
       "  'token': 2201},\n",
       " {'score': 0.08198167383670807,\n",
       "  'sequence': '<s> Hugging Face is a French company based in Lyon</s>',\n",
       "  'token': 12790},\n",
       " {'score': 0.04769487306475639,\n",
       "  'sequence': '<s> Hugging Face is a French company based in Geneva</s>',\n",
       "  'token': 11559},\n",
       " {'score': 0.04762246832251549,\n",
       "  'sequence': '<s> Hugging Face is a French company based in Brussels</s>',\n",
       "  'token': 6497},\n",
       " {'score': 0.041305847465991974,\n",
       "  'sequence': '<s> Hugging Face is a French company based in France</s>',\n",
       "  'token': 1470}]"
      ]
     },
     "execution_count": 6,
     "metadata": {
      "tags": []
     },
     "output_type": "execute_result"
    }
   ],
   "source": [
    "nlp_fill = pipeline('fill-mask')\n",
    "nlp_fill('Hugging Face is a French company based in ' + nlp_fill.tokenizer.mask_token)"
   ]
  },
  {
   "cell_type": "markdown",
   "metadata": {
    "colab_type": "text",
    "id": "Fbs9t1KvrzDy"
   },
   "source": [
    "## 5. Summarization\n",
    "\n",
    "Summarization is currently supported by `Bart` and `T5`."
   ]
  },
  {
   "cell_type": "code",
   "execution_count": 7,
   "metadata": {
    "colab": {
     "base_uri": "https://localhost:8080/",
     "height": 88
    },
    "colab_type": "code",
    "id": "8BaOgzi1u1Yc",
    "outputId": "2168e437-cfba-4247-a38c-07f02f555c6e"
   },
   "outputs": [
    {
     "name": "stderr",
     "output_type": "stream",
     "text": [
      "Couldn't reach server at 'https://s3.amazonaws.com/models.huggingface.co/bert/facebook/bart-large-cnn/modelcard.json' to download model card file.\n",
      "Creating an empty model card.\n"
     ]
    },
    {
     "data": {
      "text/plain": [
       "[{'summary_text': 'Liana Barrientos has been married 10 times, sometimes within two weeks of each other. Prosecutors say the marriages were part of an immigration scam. She is believed to still be married to four men, and at one time, she was married to eight men at once. Her eighth husband was deported in 2006 to his native Pakistan.'}]"
      ]
     },
     "execution_count": 7,
     "metadata": {
      "tags": []
     },
     "output_type": "execute_result"
    }
   ],
   "source": [
    "TEXT_TO_SUMMARIZE = \"\"\" \n",
    "New York (CNN)When Liana Barrientos was 23 years old, she got married in Westchester County, New York. \n",
    "A year later, she got married again in Westchester County, but to a different man and without divorcing her first husband. \n",
    "Only 18 days after that marriage, she got hitched yet again. Then, Barrientos declared \"I do\" five more times, sometimes only within two weeks of each other. \n",
    "In 2010, she married once more, this time in the Bronx. In an application for a marriage license, she stated it was her \"first and only\" marriage. \n",
    "Barrientos, now 39, is facing two criminal counts of \"offering a false instrument for filing in the first degree,\" referring to her false statements on the \n",
    "2010 marriage license application, according to court documents. \n",
    "Prosecutors said the marriages were part of an immigration scam. \n",
    "On Friday, she pleaded not guilty at State Supreme Court in the Bronx, according to her attorney, Christopher Wright, who declined to comment further. \n",
    "After leaving court, Barrientos was arrested and charged with theft of service and criminal trespass for allegedly sneaking into the New York subway through an emergency exit, said Detective \n",
    "Annette Markowski, a police spokeswoman. In total, Barrientos has been married 10 times, with nine of her marriages occurring between 1999 and 2002. \n",
    "All occurred either in Westchester County, Long Island, New Jersey or the Bronx. She is believed to still be married to four men, and at one time, she was married to eight men at once, prosecutors say. \n",
    "Prosecutors said the immigration scam involved some of her husbands, who filed for permanent residence status shortly after the marriages. \n",
    "Any divorces happened only after such filings were approved. It was unclear whether any of the men will be prosecuted. \n",
    "The case was referred to the Bronx District Attorney\\'s Office by Immigration and Customs Enforcement and the Department of Homeland Security\\'s \n",
    "Investigation Division. Seven of the men are from so-called \"red-flagged\" countries, including Egypt, Turkey, Georgia, Pakistan and Mali. \n",
    "Her eighth husband, Rashid Rajput, was deported in 2006 to his native Pakistan after an investigation by the Joint Terrorism Task Force. \n",
    "If convicted, Barrientos faces up to four years in prison.  Her next court appearance is scheduled for May 18.\n",
    "\"\"\"\n",
    "\n",
    "summarizer = pipeline('summarization')\n",
    "summarizer(TEXT_TO_SUMMARIZE)"
   ]
  },
  {
   "cell_type": "markdown",
   "metadata": {
    "colab_type": "text",
    "id": "u5JA6IJsr-G0"
   },
   "source": [
    "## 6. Translation\n",
    "\n",
    "Translation is currently supported by `T5` for the language mappings English-to-French (`translation_en_to_fr`), English-to-German (`translation_en_to_de`) and English-to-Romanian (`translation_en_to_ro`)."
   ]
  },
  {
   "cell_type": "code",
   "execution_count": 8,
   "metadata": {
    "colab": {
     "base_uri": "https://localhost:8080/",
     "height": 83,
     "referenced_widgets": [
      "57e8c36594d043c581c766b434037771",
      "82760185d5c14a808cbf6639b589f249",
      "f2a1b430594b4736879cdff4ec532098",
      "c81338551e60474fab9e9950fe5df294",
      "98563b405bd043a9a301a43909e43157",
      "8c0e1b7fb6ac4ee7bbbaf6020b40cc77",
      "ad78042ee71a41fd989e4b4ce9d2e3c1",
      "40c8d2617f3d4c84b923b140456fa5da"
     ]
    },
    "colab_type": "code",
    "id": "8FwayP4nwV3Z",
    "outputId": "66956816-c924-4718-fe58-cabef7d51974"
   },
   "outputs": [
    {
     "data": {
      "application/vnd.jupyter.widget-view+json": {
       "model_id": "57e8c36594d043c581c766b434037771",
       "version_major": 2,
       "version_minor": 0
      },
      "text/plain": [
       "HBox(children=(IntProgress(value=0, description='Downloading', max=230, style=ProgressStyle(description_width=…"
      ]
     },
     "metadata": {
      "tags": []
     },
     "output_type": "display_data"
    },
    {
     "name": "stdout",
     "output_type": "stream",
     "text": [
      "\n"
     ]
    },
    {
     "data": {
      "text/plain": [
       "[{'translation_text': 'HuggingFace est une entreprise française basée à New York et dont la mission est de résoudre les problèmes de NLP, un engagement à la fois.'}]"
      ]
     },
     "execution_count": 8,
     "metadata": {
      "tags": []
     },
     "output_type": "execute_result"
    }
   ],
   "source": [
    "# English to French\n",
    "translator = pipeline('translation_en_to_fr')\n",
    "translator(\"HuggingFace is a French company that is based in New York City. HuggingFace's mission is to solve NLP one commit at a time\")"
   ]
  },
  {
   "cell_type": "code",
   "execution_count": 9,
   "metadata": {
    "colab": {
     "base_uri": "https://localhost:8080/",
     "height": 83,
     "referenced_widgets": [
      "311a65b811964ebfa2c064eb348b3ce9",
      "5a2032c44d0e4f8cbaf512e6c29214cd",
      "54d1ff55e0094a4fa2b62ecdfb428328",
      "2e45f2d7d65246ecb8d6e666d026ac13",
      "e05c0ec3b49e4d4990a943d428532fb0",
      "39721262fc1e4456966d92fabe0f54ea",
      "4486f8a2efc34b9aab3864eb5ad2ba48",
      "d6228324f3444aa6bd1323d65ae4ff75"
     ]
    },
    "colab_type": "code",
    "id": "ra0-WfznwoIW",
    "outputId": "278a3d5f-cc42-40bc-a9db-c92ec5a3a2f0"
   },
   "outputs": [
    {
     "data": {
      "application/vnd.jupyter.widget-view+json": {
       "model_id": "311a65b811964ebfa2c064eb348b3ce9",
       "version_major": 2,
       "version_minor": 0
      },
      "text/plain": [
       "HBox(children=(IntProgress(value=0, description='Downloading', max=230, style=ProgressStyle(description_width=…"
      ]
     },
     "metadata": {
      "tags": []
     },
     "output_type": "display_data"
    },
    {
     "name": "stdout",
     "output_type": "stream",
     "text": [
      "\n"
     ]
    },
    {
     "data": {
      "text/plain": [
       "[{'translation_text': 'Die Geschichte der natürlichen Sprachenverarbeitung (NLP) begann im Allgemeinen in den 1950er Jahren, obwohl die Arbeit aus früheren Zeiten zu finden ist.'}]"
      ]
     },
     "execution_count": 9,
     "metadata": {
      "tags": []
     },
     "output_type": "execute_result"
    }
   ],
   "source": [
    "# English to German\n",
    "translator = pipeline('translation_en_to_de')\n",
    "translator(\"The history of natural language processing (NLP) generally started in the 1950s, although work can be found from earlier periods.\")"
   ]
  },
  {
   "cell_type": "markdown",
   "metadata": {
    "colab_type": "text",
    "id": "Utmldmetrl_9"
   },
   "source": [
    "## 7. Projection - Features Extraction "
   ]
  },
  {
   "cell_type": "code",
   "execution_count": 19,
   "metadata": {
    "colab": {
     "base_uri": "https://localhost:8080/",
     "height": 83,
     "referenced_widgets": [
      "fd44cf6ab17e4b768b2e1d5cb8ce5af9",
      "b8c0ea31578d4eaaa69251d0004fd8c6",
      "2015cd9c1da9467290ecd9019af231eb",
      "17bacdaee55b43e8977c4dfe4f7245bb",
      "879ef9e1a0e94f3d96ed56fb4bae64b8",
      "7ab70324d42647acac5020b387955caf",
      "31d97ecf78fa412c99e6659196d82828",
      "c6be5d48ec3c4c799d1445607e5f1ac6"
     ]
    },
    "colab_type": "code",
    "id": "O4SjR1QQrl__",
    "outputId": "2ce966d5-7a89-4488-d48f-626d1c2a8222",
    "pycharm": {
     "is_executing": false,
     "name": "#%% code\n"
    }
   },
   "outputs": [
    {
     "data": {
      "text/plain": [
       "(1, 10, 768)"
      ]
     },
     "execution_count": 19,
     "metadata": {},
     "output_type": "execute_result"
    }
   ],
   "source": [
    "import numpy as np\n",
    "from transformers import *\n",
    "model_class = GPT2Model     \n",
    "tokenizer_class = GPT2Tokenizer   \n",
    "pretrained_weights='gpt2'\n",
    "tokenizer = tokenizer_class.from_pretrained(pretrained_weights)\n",
    "model = model_class.from_pretrained(pretrained_weights)\n",
    "\n",
    "nlp_features = pipeline('feature-extraction',model = model ,tokenizer =tokenizer)\n",
    "\n",
    "\n",
    "output = nlp_features([\"Hugging Face is a French company based in Paris\"])\n",
    "np.array(output).shape   # (Samples, Tokens, Vector Size)\n"
   ]
  },
  {
   "cell_type": "code",
   "execution_count": 23,
   "metadata": {},
   "outputs": [],
   "source": [
    "out= np.array(output)"
   ]
  },
  {
   "cell_type": "code",
   "execution_count": 28,
   "metadata": {},
   "outputs": [
    {
     "data": {
      "text/plain": [
       "array([[-9.27818790e-02, -1.15083568e-01, -1.68172598e-01,\n",
       "        -6.40434846e-02,  7.53759686e-03, -4.63114567e-02,\n",
       "         6.99393034e+00, -3.11574340e-01, -3.19026530e-01,\n",
       "        -3.01398989e-02,  8.11261833e-02, -5.60923815e-01,\n",
       "        -2.13654757e-01,  5.34601836e-03,  2.76477426e-01,\n",
       "        -2.39565410e-02, -2.61350542e-01, -6.29135519e-02,\n",
       "         5.64586699e-01, -1.46294758e-01, -1.31946094e-02,\n",
       "        -4.18042690e-01, -2.24999264e-02, -2.06269264e-01,\n",
       "         1.48754001e-01, -1.60813838e-01,  1.32144824e-01,\n",
       "         9.70903933e-02,  2.71501631e-01, -7.43761435e-02,\n",
       "         7.57017285e-02, -3.11190188e-01, -1.78558186e-01,\n",
       "        -6.77475810e-01, -5.49971461e-02, -5.11014052e-02,\n",
       "         6.45749435e+01,  2.15511724e-01, -2.41381332e-01,\n",
       "        -5.61110452e-02, -1.59904003e-01,  2.28972837e-01,\n",
       "         1.35126412e-01, -3.23482126e-01, -9.39340070e-02,\n",
       "         1.80511296e-01, -2.16299310e-01, -3.03743064e-01,\n",
       "         2.24557996e-01,  3.11410159e-01,  5.41363478e-01,\n",
       "        -1.05797283e-01,  6.38284385e-01, -3.09893787e-01,\n",
       "         1.81344047e-01,  4.73732322e-01,  9.74295065e-02,\n",
       "         7.76911303e-02, -2.78608948e-01,  4.39871922e-02,\n",
       "        -2.04933863e-02, -1.03330210e-01,  3.30161572e-01,\n",
       "         4.48998928e-01, -1.10905874e+00,  1.67572811e-01,\n",
       "         2.11601719e-01, -3.56222719e-01,  1.53581068e-01,\n",
       "        -2.36707814e-02,  3.08583140e-01, -1.54992908e-01,\n",
       "        -1.59230717e-02, -1.64060161e-01,  2.51955856e-02,\n",
       "        -1.82077996e-02, -5.50703228e-01, -1.20794058e+00,\n",
       "         1.63277894e-01, -3.85896862e-01, -8.30734432e-01,\n",
       "         8.31885040e-02,  2.01058760e-01, -1.86008364e-01,\n",
       "         2.24960092e-02,  1.10176089e-03, -9.27090526e-01,\n",
       "        -1.02687025e+00,  3.67871225e-01, -1.63146362e-01,\n",
       "        -4.23692307e-03, -4.82349247e-02, -9.99436453e-02,\n",
       "        -6.32824004e-02, -2.33591244e-01, -2.05546051e-01,\n",
       "         2.49110833e-01,  2.59842966e-02,  5.80100477e-01,\n",
       "         5.14317214e-01, -2.60871708e-01, -1.05709881e-01,\n",
       "         8.46749470e-02, -3.63287151e-01, -1.37922868e-01,\n",
       "         4.20498282e-01, -2.11045042e-01,  2.94491649e+00,\n",
       "         2.76465535e-01, -3.75821292e-01, -2.48741001e-01,\n",
       "        -1.46891832e-01, -2.35338897e-01,  2.64774114e-01,\n",
       "         1.06737077e-01, -2.98366826e-02, -4.05069366e-02,\n",
       "         5.91141522e-01, -1.26976684e-01,  6.52719319e-01,\n",
       "         1.56195864e-01,  6.08956218e-02,  7.54097104e-01,\n",
       "        -1.03990950e-01, -4.51735049e-01, -2.53173023e-01,\n",
       "        -1.54236242e-01, -1.48400217e-01,  4.53375995e-01,\n",
       "        -1.37855828e-01, -1.10072874e-01,  7.22794309e-02,\n",
       "         4.21639264e-01,  1.54254690e-01, -3.54001969e-01,\n",
       "         4.40085381e-01, -3.64214294e-02,  3.09684932e-01,\n",
       "         4.34199095e-01,  2.72625118e-01, -1.82325333e-01,\n",
       "         1.55700758e-01, -9.40385461e-01, -1.36069745e-01,\n",
       "         9.60457772e-02,  2.47273237e-01,  8.66926014e-02,\n",
       "        -4.43771444e-02, -2.83044912e-02, -8.84730890e-02,\n",
       "        -2.21028745e-01,  4.85013649e-02, -2.17235357e-01,\n",
       "         3.46565172e-02, -3.72784585e-02, -5.58047071e-02,\n",
       "         3.09166349e-02, -4.76154208e-01,  7.42168352e-02,\n",
       "        -4.53825109e-02,  1.28661886e-01, -2.57945582e-02,\n",
       "         3.48012090e-01,  3.50216441e-02, -4.00839657e-01,\n",
       "         3.89341593e-01,  3.01757306e-01, -1.63375878e+00,\n",
       "        -3.94249082e-01, -4.63749796e-01,  2.50809312e-01,\n",
       "        -4.34630156e-01, -2.88452923e-01,  5.88659823e-01,\n",
       "         4.96947542e-02, -6.52677044e-02,  6.44105494e-01,\n",
       "        -2.67262664e-02,  7.71125853e-02,  6.34096861e-02,\n",
       "        -3.97309095e-01, -2.63188612e-02, -1.60900354e-02,\n",
       "        -6.37904108e-01, -1.40192628e-01,  7.13975728e-02,\n",
       "         3.05991918e-01, -4.36284170e-02,  2.61715919e-01,\n",
       "        -2.31430575e-01, -1.78569347e-01, -2.69339476e-02,\n",
       "        -3.81369531e-01,  2.49025047e-01,  3.01975552e-02,\n",
       "         6.56830668e-02,  2.69002914e-01,  2.52636112e-02,\n",
       "        -3.90532404e-01, -2.91948199e-01,  3.59874144e-02,\n",
       "        -2.28523146e-02, -4.91909444e-01,  5.17097712e-02,\n",
       "        -2.02728316e-01,  1.42589686e-02, -8.93879756e-02,\n",
       "        -7.05850124e-02, -3.01359057e-01, -1.44476509e-02,\n",
       "         4.20041829e-01, -1.43831056e-02,  2.02364057e-01,\n",
       "        -4.08773720e-01, -2.61850625e-01,  5.34849539e-02,\n",
       "         7.41818920e-02, -2.03580692e-01, -2.98049506e-02,\n",
       "        -1.75354943e-01,  5.13499789e-02,  1.76005274e-01,\n",
       "        -2.45258972e-01, -6.87412500e-01, -6.04408868e-02,\n",
       "         2.37421453e-01, -5.30657411e-01,  1.93300337e-01,\n",
       "         9.03435573e-02, -1.11071588e-02,  2.96295941e-01,\n",
       "         1.29340664e-01,  1.52617168e+00, -1.23795681e-01,\n",
       "         7.93864951e-02, -1.48598731e-01, -3.27170521e-01,\n",
       "        -5.54259829e-02, -3.56415629e-01, -4.46000963e-01,\n",
       "         2.96675175e-01,  2.28529811e-01,  2.96922147e-01,\n",
       "         1.59524426e-01,  4.79090959e-01,  3.29969376e-01,\n",
       "        -1.94334343e-01,  2.09218785e-01,  8.27918500e-02,\n",
       "        -6.23059683e-02,  7.71545386e-03, -1.29581094e-01,\n",
       "         3.21667045e-02,  5.26818812e-01, -9.87078249e-02,\n",
       "        -1.89112306e-01,  5.48373722e-02,  1.06268354e-01,\n",
       "         4.93375927e-01, -7.96705931e-02, -2.07351983e-01,\n",
       "        -2.57972479e-01,  6.26005054e-01,  6.22915864e-01,\n",
       "        -2.20779870e-02,  2.14057729e-01, -1.01400232e+00,\n",
       "         4.77135062e-01, -5.29316604e-01,  7.76185334e-01,\n",
       "         1.67256832e-01,  1.24613476e+00,  4.31821465e-01,\n",
       "         4.25684065e-01, -2.88972437e-01, -3.90381068e-02,\n",
       "        -1.70865958e-03,  3.57900470e-01, -2.43584886e-01,\n",
       "         7.32311457e-02,  4.83418167e-01, -1.91880450e-01,\n",
       "         2.80541956e-01, -3.24722454e-02,  1.39270663e-01,\n",
       "        -2.49438554e-01,  4.76009659e-02, -2.84659356e-01,\n",
       "        -1.54653102e-01,  7.63573721e-02, -3.69304299e-01,\n",
       "        -1.66336000e-01, -7.16256499e-02, -1.38332710e-01,\n",
       "         5.78239739e-01, -4.95454431e-01, -1.81674659e-01,\n",
       "        -5.15617311e-01,  1.37497932e-01,  1.81094766e-01,\n",
       "        -5.68772554e-02,  2.45409901e-03,  4.16931361e-01,\n",
       "         1.80959404e-01,  2.70821333e-01, -1.88239619e-01,\n",
       "         5.47945678e-01,  4.53858376e-01,  5.69289505e-01,\n",
       "         3.01998407e-01,  5.33460192e-02,  3.45341533e-01,\n",
       "         7.88682699e-02,  3.61610025e-01, -1.46560287e+01,\n",
       "        -1.97525546e-01, -3.34019750e-01,  3.12254608e-01,\n",
       "        -2.25181729e-01,  4.88403767e-01, -2.66781598e-01,\n",
       "        -7.21013919e-02, -9.41389352e-02, -2.64128447e-01,\n",
       "        -2.68502738e-02, -2.09358126e-01,  8.88787866e-01,\n",
       "        -2.21543685e-01,  1.79384902e-01, -3.03617120e-02,\n",
       "        -9.45611298e-02, -2.27427427e-02, -3.07349418e-03,\n",
       "        -1.07928164e-01,  1.68046266e-01, -1.13956317e-01,\n",
       "        -1.25983700e-01,  1.01012319e-01, -1.09297611e-01,\n",
       "         4.51009959e-01,  2.80655771e-01, -5.44508696e-02,\n",
       "        -1.48147538e-01, -1.43264547e-01, -1.36934564e-01,\n",
       "        -2.64264107e-01,  1.08399577e-02, -5.39388597e-01,\n",
       "         4.09596235e-01, -4.54429537e-02, -3.52991611e-01,\n",
       "         6.40517414e-01, -7.10762963e-02, -2.67504789e-02,\n",
       "         2.48031706e-01,  2.11458653e-02,  4.78322431e-02,\n",
       "        -2.35676512e-01,  2.82077968e-01, -3.62644233e-02,\n",
       "         1.47493169e-01, -4.06624168e-01,  1.73585638e-01,\n",
       "        -1.86816648e-01,  3.96112353e-02, -1.82919204e+00,\n",
       "         5.71820773e-02, -6.84574917e-02,  2.08290726e-01,\n",
       "         1.25196114e-01,  1.84439600e-01,  4.51702207e-01,\n",
       "         3.12770665e-01, -1.24969935e+00, -1.53424568e+01,\n",
       "        -1.02615356e-01,  2.89736807e-01,  1.37876666e+00,\n",
       "        -9.26181003e-02,  2.63261735e-01,  1.62178546e-01,\n",
       "         7.89525956e-02, -2.67797828e-01, -2.00005658e-02,\n",
       "        -3.24244797e-01,  1.03285275e-02,  4.68513519e-01,\n",
       "        -6.45027459e-02, -1.55651852e-01,  3.34384628e-02,\n",
       "        -7.72246048e-02,  4.31447059e-01, -4.15820777e-02,\n",
       "        -1.74453154e-01, -1.34298250e-01,  2.23772302e-01,\n",
       "         1.09897591e-01,  1.58657447e-01,  5.03666282e-01,\n",
       "        -3.42209101e-01,  2.90288001e-01, -1.23219348e-01,\n",
       "        -8.16907920e-03, -4.09996957e-01, -3.16412032e-01,\n",
       "         5.08809239e-02,  2.85844244e-02,  3.19391787e-01,\n",
       "         1.23796299e-01, -1.60939306e-01, -3.85540575e-01,\n",
       "         2.39066243e-01, -2.74652809e-01, -2.26682425e-01,\n",
       "        -2.72088021e-01, -6.05706990e-01, -3.89777794e-02,\n",
       "         1.09086752e-01, -6.51278440e-03, -1.66092422e-02,\n",
       "         1.39851533e-02, -3.34967852e-01, -4.54008877e-02,\n",
       "         1.24370210e-01,  3.46777171e-01, -1.17958352e-01,\n",
       "         5.33500016e-02,  2.69681122e-02, -1.44217417e-01,\n",
       "        -4.97864522e-02,  9.04388885e+01,  2.23977342e-01,\n",
       "         4.74620134e-01,  2.05614269e-01, -6.41475096e-02,\n",
       "         5.30192792e-01, -3.07807326e-01, -8.56034085e-02,\n",
       "        -1.60405278e-01, -5.46008289e-01,  4.33315821e-02,\n",
       "        -2.14567572e-01,  1.19915545e+00, -1.52737841e-01,\n",
       "        -8.41999501e-02,  3.87786925e-01,  1.54852659e-01,\n",
       "         1.05022454e+00, -2.18464077e-01,  3.32478762e-01,\n",
       "        -1.74238309e-01,  2.55782828e-02,  1.22255541e-01,\n",
       "         5.80559433e-01,  1.13309726e-01, -4.97224689e-01,\n",
       "        -2.50872463e-01,  3.42135400e-01, -1.14389203e-01,\n",
       "        -7.24668384e-01,  5.46376050e-01, -4.94120330e-01,\n",
       "        -1.44664079e-01, -1.87946260e-01,  1.95989713e-01,\n",
       "        -5.39086580e-01, -4.81588989e-02,  1.65177032e-01,\n",
       "        -1.27511069e-01, -4.02505130e-01, -2.59145021e-01,\n",
       "        -7.23343566e-02, -3.30739796e-01,  1.16468415e-01,\n",
       "         3.73837918e-01, -1.93980653e-02, -2.94278443e-01,\n",
       "        -3.72546375e-01,  3.29593122e-01,  6.65334404e-01,\n",
       "        -8.94281626e-01,  1.26534557e+00,  2.50092149e-01,\n",
       "         1.71724409e-02, -1.99058250e-01,  4.81723100e-02,\n",
       "         1.10630162e-01, -2.13844702e-01, -5.77927411e-01,\n",
       "        -3.03064942e-01, -2.72144705e-01,  5.24754047e-01,\n",
       "        -1.17436461e-01, -9.18178558e-02, -2.20748574e-01,\n",
       "        -1.53418466e-01,  1.85850235e+02, -5.20259619e-01,\n",
       "         6.68648109e-02,  1.68929338e-01,  4.38622683e-02,\n",
       "         1.40541151e-01, -6.03591621e-01, -1.77523482e+00,\n",
       "         2.00840577e-01, -4.66150716e-02, -4.51250048e-03,\n",
       "         3.54182683e-02, -2.79183239e-01,  2.90470272e-01,\n",
       "         5.37858903e-01, -7.55686641e-01,  6.58969209e-02,\n",
       "         2.34856337e-01, -3.96624893e-01, -2.50709921e-01,\n",
       "         2.63870060e-02,  6.23565435e-01, -1.35074645e-01,\n",
       "        -2.39299014e-01,  1.43417165e-01,  3.10366392e-01,\n",
       "        -1.06774479e-01,  9.78078619e-02,  1.22601852e-01,\n",
       "        -1.38928190e-01, -3.50040793e-01, -7.10384920e-02,\n",
       "        -1.42391562e-01,  2.28027880e-01, -1.09338976e-01,\n",
       "        -1.82572886e-01,  4.65070531e-02,  1.79239139e-01,\n",
       "        -7.08794370e-02,  3.64129394e-01, -3.40709448e-01,\n",
       "        -1.95626646e-01, -2.66090572e-01, -2.65068680e-01,\n",
       "        -5.72496690e-02,  6.41818205e-03,  2.93341368e-01,\n",
       "         9.45750102e-02,  2.84517799e-02,  1.03273086e-01,\n",
       "        -2.49217749e-01, -1.29641950e-01,  3.33674550e-01,\n",
       "        -4.13953960e-02,  1.37832165e-01,  4.53218251e-01,\n",
       "         3.81361842e-01,  3.35780323e-01, -5.46079814e-01,\n",
       "        -3.00845146e-01, -3.93970348e-02, -9.70574915e-02,\n",
       "         4.15442497e-01, -3.78996730e-01,  4.29669946e-01,\n",
       "        -5.99389523e-02,  2.44254768e-01,  2.37157315e-01,\n",
       "        -6.96021169e-02, -2.39757270e-01, -1.33421704e-01,\n",
       "        -4.36906099e-01,  2.54202157e-01, -8.22315097e-01,\n",
       "         1.12668134e-01, -2.56983321e-02,  2.70876735e-01,\n",
       "         1.71498433e-01, -3.06801379e-01, -8.56125280e-02,\n",
       "        -1.71108946e-01,  2.88410097e-01,  1.10509984e-01,\n",
       "         2.66316593e-01,  5.66086918e-02, -1.50620341e-01,\n",
       "         1.68799371e-01,  2.57326901e-01, -4.31753956e-02,\n",
       "         2.24801302e-01,  5.35048485e-01, -9.38783213e-02,\n",
       "        -3.73889804e-01,  6.63945964e-03, -2.57542551e-01,\n",
       "         2.57579565e-01,  8.52644593e-02,  4.69931781e-01,\n",
       "        -1.06331042e-03,  1.29645690e-01,  1.52616233e-01,\n",
       "        -9.26909372e-02,  5.83453774e-02, -2.44339392e-01,\n",
       "        -1.97925027e-02, -1.13376923e-01, -5.82638532e-02,\n",
       "         5.15307307e-01,  6.15491509e-01, -1.85104217e-02,\n",
       "        -1.92621291e-01,  1.89285148e-02, -2.01385587e-01,\n",
       "        -1.90268010e-02,  3.10925603e-01,  3.46255377e-02,\n",
       "        -6.05870746e-02,  3.85094225e-01, -4.71537471e-01,\n",
       "         4.27740775e-02,  2.31980383e-01, -1.20937370e-01,\n",
       "        -8.00044835e-03, -1.64626181e-01, -2.63039023e-01,\n",
       "         2.03650415e-01,  3.23778898e-01, -1.37932569e-01,\n",
       "        -1.52140662e-01,  2.74128281e-02, -1.91808134e-01,\n",
       "        -1.37109682e-01, -1.53160850e-02,  7.53148571e-02,\n",
       "         2.35123206e-02, -3.55758101e-01,  1.70582116e-01,\n",
       "         1.93646416e-01,  4.82982516e-01, -1.28549814e+00,\n",
       "        -2.62927748e-02, -6.21115342e-02, -3.82471114e-01,\n",
       "         1.96211606e-01,  3.29674900e-01, -4.85931188e-02,\n",
       "        -7.58722052e-02, -6.54961541e-02,  3.77480000e-01,\n",
       "         1.64577603e-01,  2.47950125e-02, -2.19941616e-01,\n",
       "         8.86317864e-02,  3.30221832e-01, -7.34635517e-02,\n",
       "         5.19883484e-02,  5.74261546e-02,  3.92551124e-02,\n",
       "        -2.55561545e-02, -2.50823736e-01,  6.73967227e-02,\n",
       "        -7.67866448e-02, -2.06021994e-01,  1.40531436e-01,\n",
       "        -4.16222066e-01,  5.42597007e-03,  3.12916525e-02,\n",
       "        -1.54958546e-01,  1.82171836e-01, -2.29123160e-01,\n",
       "        -4.79873419e-01,  1.06068410e-01,  1.04172878e-01,\n",
       "         1.76078200e-01, -1.77448928e-01,  5.05465031e-01,\n",
       "         1.68930128e-01, -1.40692592e-01, -4.27074611e-01,\n",
       "         1.91561766e-02, -8.54362249e-02, -1.18241064e-01,\n",
       "        -4.41830337e-01,  1.26479411e+00, -1.61706716e-01,\n",
       "         9.35694128e-02, -2.62839168e-01,  3.03681552e-01,\n",
       "        -3.74247551e-01, -2.12944373e-01,  1.31508008e-01,\n",
       "         1.56174511e-01,  2.97237456e-01, -4.82414290e-02,\n",
       "        -3.76118630e-01, -1.50654316e-01, -2.18130425e-01,\n",
       "        -1.82564989e-01, -1.41519442e-01,  4.23127487e-02,\n",
       "        -3.32979649e-01,  3.17860037e-01,  2.97394305e-01,\n",
       "        -1.76534474e-01, -1.83782414e-01,  4.16167378e-01,\n",
       "         2.57099658e-01, -2.64266777e+00, -3.62924755e-01,\n",
       "        -1.19074456e-01, -2.34232381e-01, -5.08831963e-02,\n",
       "         6.55938089e-02, -4.54912126e-01, -3.60235959e-01,\n",
       "        -8.96603689e-02, -6.95632339e-01, -1.38370112e-01,\n",
       "        -2.43983492e-01, -1.50938675e-01, -4.29738551e-01,\n",
       "        -3.58603567e-01, -6.37442946e-01,  2.56826252e-01,\n",
       "         4.32943761e-01,  3.19327891e-01, -2.30166823e-01,\n",
       "        -3.15534145e-01, -4.52571720e-01,  3.76957282e-02,\n",
       "        -9.14259404e-02,  4.01031077e-01,  2.80754954e-01,\n",
       "         3.23037207e-01,  9.84616876e-02,  4.04495806e-01,\n",
       "        -3.10283661e-01, -8.96251276e-02,  2.60814399e-01,\n",
       "         3.63353997e-01,  1.41229108e-01, -1.26811191e-01,\n",
       "        -1.94118246e-02,  2.14517236e-01,  1.17153339e-01,\n",
       "        -1.51225090e-01,  1.19254425e-01, -3.21314663e-01,\n",
       "         7.26404712e-02, -6.21043861e-01, -3.41611743e-01,\n",
       "        -1.39319440e-02, -2.07192361e-01,  1.64888144e-01,\n",
       "        -1.98191538e-01,  5.99265518e-03, -6.45982753e-03,\n",
       "         6.34373248e-01, -6.79420903e-02, -4.03434932e-01,\n",
       "        -4.09335464e-01, -1.25865281e-01, -8.68701413e-02,\n",
       "        -1.72659472e-01, -1.41115829e-01,  4.25855815e-02,\n",
       "        -4.66003209e-01,  2.97692895e-01, -1.31729335e-01,\n",
       "        -2.51192182e-01, -1.40996277e-01,  2.29228854e-01]])"
      ]
     },
     "execution_count": 28,
     "metadata": {},
     "output_type": "execute_result"
    }
   ],
   "source": [
    "out[:,1,:]"
   ]
  },
  {
   "cell_type": "code",
   "execution_count": 26,
   "metadata": {},
   "outputs": [],
   "source": [
    "output = nlp_features('Hugging Face is a French',model =\"gpt2\")\n",
    "a = np.array(output)"
   ]
  },
  {
   "cell_type": "code",
   "execution_count": 32,
   "metadata": {},
   "outputs": [
    {
     "data": {
      "text/plain": [
       "0.0"
      ]
     },
     "execution_count": 32,
     "metadata": {},
     "output_type": "execute_result"
    }
   ],
   "source": [
    "np.sum(a-out[:,:6,:])"
   ]
  },
  {
   "cell_type": "code",
   "execution_count": null,
   "metadata": {},
   "outputs": [],
   "source": []
  },
  {
   "cell_type": "markdown",
   "metadata": {
    "colab_type": "text",
    "id": "02j8km8YrmAE",
    "pycharm": {
     "name": "#%% md\n"
    }
   },
   "source": [
    "Alright ! Now you have a nice picture of what is possible through transformers' pipelines, and there is more\n",
    "to come in future releases. \n",
    "\n",
    "In the meantime, you can try the different pipelines with your own inputs"
   ]
  },
  {
   "cell_type": "code",
   "execution_count": 11,
   "metadata": {
    "colab": {
     "base_uri": "https://localhost:8080/",
     "height": 116,
     "referenced_widgets": [
      "0bd407b4975f49c3827aede14c59501c",
      "3f5406df699e44f5b60678c1c13500f5",
      "17768469581445b68246ed308ce69326",
      "74cbcbae5cac4f12abf080a38390f05c",
      "62b10ca525cc4ac68f3a006434eb7416",
      "211109537fbe4e60b89a238c89db1346"
     ]
    },
    "colab_type": "code",
    "id": "yFlBPQHtrmAH",
    "outputId": "03cc3207-a7e8-49fd-904a-63a7a1d0eb7a",
    "pycharm": {
     "is_executing": false,
     "name": "#%% code\n"
    }
   },
   "outputs": [
    {
     "data": {
      "application/vnd.jupyter.widget-view+json": {
       "model_id": "0bd407b4975f49c3827aede14c59501c",
       "version_major": 2,
       "version_minor": 0
      },
      "text/plain": [
       "Dropdown(description='Task:', index=1, options=('sentiment-analysis', 'ner', 'fill_mask'), value='ner')"
      ]
     },
     "metadata": {
      "tags": []
     },
     "output_type": "display_data"
    },
    {
     "data": {
      "application/vnd.jupyter.widget-view+json": {
       "model_id": "74cbcbae5cac4f12abf080a38390f05c",
       "version_major": 2,
       "version_minor": 0
      },
      "text/plain": [
       "Text(value='', description='Your input:', placeholder='Enter something')"
      ]
     },
     "metadata": {
      "tags": []
     },
     "output_type": "display_data"
    },
    {
     "name": "stdout",
     "output_type": "stream",
     "text": [
      "[{'word': 'Peter', 'score': 0.9935821294784546, 'entity': 'I-PER'}, {'word': 'Pan', 'score': 0.9901397228240967, 'entity': 'I-PER'}, {'word': 'Marseille', 'score': 0.9984904527664185, 'entity': 'I-LOC'}, {'word': 'France', 'score': 0.9998687505722046, 'entity': 'I-LOC'}]\n"
     ]
    }
   ],
   "source": [
    "task = widgets.Dropdown(\n",
    "    options=['sentiment-analysis', 'ner', 'fill_mask'],\n",
    "    value='ner',\n",
    "    description='Task:',\n",
    "    disabled=False\n",
    ")\n",
    "\n",
    "input = widgets.Text(\n",
    "    value='',\n",
    "    placeholder='Enter something',\n",
    "    description='Your input:',\n",
    "    disabled=False\n",
    ")\n",
    "\n",
    "def forward(_):\n",
    "    if len(input.value) > 0: \n",
    "        if task.value == 'ner':\n",
    "            output = nlp_token_class(input.value)\n",
    "        elif task.value == 'sentiment-analysis':\n",
    "            output = nlp_sentence_classif(input.value)\n",
    "        else:\n",
    "            if input.value.find('<mask>') == -1:\n",
    "                output = nlp_fill(input.value + ' <mask>')\n",
    "            else:\n",
    "                output = nlp_fill(input.value)                \n",
    "        print(output)\n",
    "\n",
    "input.on_submit(forward)\n",
    "display(task, input)"
   ]
  },
  {
   "cell_type": "code",
   "execution_count": 12,
   "metadata": {
    "colab": {
     "base_uri": "https://localhost:8080/",
     "height": 143,
     "referenced_widgets": [
      "d79946ac16ea4855a0bbe2ca2a4d4bf5",
      "ab5774ac19f84ab18ddf09a63433df00",
      "a02164204f0f43668bc36a907e720af7",
      "3b12aec414b14221ad2a11dfd975faa0",
      "d305ba1662e3466c93ab5cca7ebf8f33",
      "879f7a3747ad455d810c7a29918648ee"
     ]
    },
    "colab_type": "code",
    "id": "GCoKbBTYrmAN",
    "outputId": "57c3a647-160a-4b3a-e852-e7a1daf1294a",
    "pycharm": {
     "is_executing": false,
     "name": "#%% Question Answering\n"
    }
   },
   "outputs": [
    {
     "data": {
      "application/vnd.jupyter.widget-view+json": {
       "model_id": "d79946ac16ea4855a0bbe2ca2a4d4bf5",
       "version_major": 2,
       "version_minor": 0
      },
      "text/plain": [
       "Textarea(value='Einstein is famous for the general theory of relativity', description='Context:', placeholder=…"
      ]
     },
     "metadata": {
      "tags": []
     },
     "output_type": "display_data"
    },
    {
     "data": {
      "application/vnd.jupyter.widget-view+json": {
       "model_id": "3b12aec414b14221ad2a11dfd975faa0",
       "version_major": 2,
       "version_minor": 0
      },
      "text/plain": [
       "Text(value='Why is Einstein famous for ?', description='Question:', placeholder='Enter something')"
      ]
     },
     "metadata": {
      "tags": []
     },
     "output_type": "display_data"
    },
    {
     "name": "stderr",
     "output_type": "stream",
     "text": [
      "convert squad examples to features: 100%|██████████| 1/1 [00:00<00:00, 363.99it/s]\n",
      "add example index and unique id: 100%|██████████| 1/1 [00:00<00:00, 5178.15it/s]\n"
     ]
    },
    {
     "name": "stdout",
     "output_type": "stream",
     "text": [
      "{'score': 0.40340594113729367, 'start': 27, 'end': 54, 'answer': 'general theory of relativity'}\n"
     ]
    }
   ],
   "source": [
    "context = widgets.Textarea(\n",
    "    value='Einstein is famous for the general theory of relativity',\n",
    "    placeholder='Enter something',\n",
    "    description='Context:',\n",
    "    disabled=False\n",
    ")\n",
    "\n",
    "query = widgets.Text(\n",
    "    value='Why is Einstein famous for ?',\n",
    "    placeholder='Enter something',\n",
    "    description='Question:',\n",
    "    disabled=False\n",
    ")\n",
    "\n",
    "def forward(_):\n",
    "    if len(context.value) > 0 and len(query.value) > 0: \n",
    "        output = nlp_qa(question=query.value, context=context.value)            \n",
    "        print(output)\n",
    "\n",
    "query.on_submit(forward)\n",
    "display(context, query)"
   ]
  }
 ],
 "metadata": {
  "colab": {
   "name": "03-pipelines.ipynb",
   "provenance": []
  },
  "kernelspec": {
   "display_name": "Python 3",
   "language": "python",
   "name": "python3"
  },
  "language_info": {
   "codemirror_mode": {
    "name": "ipython",
    "version": 3
   },
   "file_extension": ".py",
   "mimetype": "text/x-python",
   "name": "python",
   "nbconvert_exporter": "python",
   "pygments_lexer": "ipython3",
   "version": "3.7.7"
  },
  "pycharm": {
   "stem_cell": {
    "cell_type": "raw",
    "metadata": {
     "collapsed": false
    },
    "source": []
   }
  },
  "widgets": {
   "application/vnd.jupyter.widget-state+json": {
    "0bd407b4975f49c3827aede14c59501c": {
     "model_module": "@jupyter-widgets/controls",
     "model_name": "DropdownModel",
     "state": {
      "_dom_classes": [],
      "_model_module": "@jupyter-widgets/controls",
      "_model_module_version": "1.5.0",
      "_model_name": "DropdownModel",
      "_options_labels": [
       "sentiment-analysis",
       "ner",
       "fill_mask"
      ],
      "_view_count": null,
      "_view_module": "@jupyter-widgets/controls",
      "_view_module_version": "1.5.0",
      "_view_name": "DropdownView",
      "description": "Task:",
      "description_tooltip": null,
      "disabled": false,
      "index": 1,
      "layout": "IPY_MODEL_17768469581445b68246ed308ce69326",
      "style": "IPY_MODEL_3f5406df699e44f5b60678c1c13500f5"
     }
    },
    "1006cc0fab1e4139bb7b135486261c92": {
     "model_module": "@jupyter-widgets/controls",
     "model_name": "ProgressStyleModel",
     "state": {
      "_model_module": "@jupyter-widgets/controls",
      "_model_module_version": "1.5.0",
      "_model_name": "ProgressStyleModel",
      "_view_count": null,
      "_view_module": "@jupyter-widgets/base",
      "_view_module_version": "1.2.0",
      "_view_name": "StyleView",
      "bar_color": null,
      "description_width": "initial"
     }
    },
    "17768469581445b68246ed308ce69326": {
     "model_module": "@jupyter-widgets/base",
     "model_name": "LayoutModel",
     "state": {
      "_model_module": "@jupyter-widgets/base",
      "_model_module_version": "1.2.0",
      "_model_name": "LayoutModel",
      "_view_count": null,
      "_view_module": "@jupyter-widgets/base",
      "_view_module_version": "1.2.0",
      "_view_name": "LayoutView",
      "align_content": null,
      "align_items": null,
      "align_self": null,
      "border": null,
      "bottom": null,
      "display": null,
      "flex": null,
      "flex_flow": null,
      "grid_area": null,
      "grid_auto_columns": null,
      "grid_auto_flow": null,
      "grid_auto_rows": null,
      "grid_column": null,
      "grid_gap": null,
      "grid_row": null,
      "grid_template_areas": null,
      "grid_template_columns": null,
      "grid_template_rows": null,
      "height": null,
      "justify_content": null,
      "justify_items": null,
      "left": null,
      "margin": null,
      "max_height": null,
      "max_width": null,
      "min_height": null,
      "min_width": null,
      "object_fit": null,
      "object_position": null,
      "order": null,
      "overflow": null,
      "overflow_x": null,
      "overflow_y": null,
      "padding": null,
      "right": null,
      "top": null,
      "visibility": null,
      "width": null
     }
    },
    "17bacdaee55b43e8977c4dfe4f7245bb": {
     "model_module": "@jupyter-widgets/controls",
     "model_name": "HTMLModel",
     "state": {
      "_dom_classes": [],
      "_model_module": "@jupyter-widgets/controls",
      "_model_module_version": "1.5.0",
      "_model_name": "HTMLModel",
      "_view_count": null,
      "_view_module": "@jupyter-widgets/controls",
      "_view_module_version": "1.5.0",
      "_view_name": "HTMLView",
      "description": "",
      "description_tooltip": null,
      "layout": "IPY_MODEL_c6be5d48ec3c4c799d1445607e5f1ac6",
      "placeholder": "​",
      "style": "IPY_MODEL_31d97ecf78fa412c99e6659196d82828",
      "value": " 230/230 [00:01&lt;00:00, 129B/s]"
     }
    },
    "1eb2fa080ec44f8c8d5f6f52900277ab": {
     "model_module": "@jupyter-widgets/controls",
     "model_name": "ProgressStyleModel",
     "state": {
      "_model_module": "@jupyter-widgets/controls",
      "_model_module_version": "1.5.0",
      "_model_name": "ProgressStyleModel",
      "_view_count": null,
      "_view_module": "@jupyter-widgets/base",
      "_view_module_version": "1.2.0",
      "_view_name": "StyleView",
      "bar_color": null,
      "description_width": "initial"
     }
    },
    "2015cd9c1da9467290ecd9019af231eb": {
     "model_module": "@jupyter-widgets/controls",
     "model_name": "IntProgressModel",
     "state": {
      "_dom_classes": [],
      "_model_module": "@jupyter-widgets/controls",
      "_model_module_version": "1.5.0",
      "_model_name": "IntProgressModel",
      "_view_count": null,
      "_view_module": "@jupyter-widgets/controls",
      "_view_module_version": "1.5.0",
      "_view_name": "ProgressView",
      "bar_style": "success",
      "description": "Downloading: 100%",
      "description_tooltip": null,
      "layout": "IPY_MODEL_7ab70324d42647acac5020b387955caf",
      "max": 230,
      "min": 0,
      "orientation": "horizontal",
      "style": "IPY_MODEL_879ef9e1a0e94f3d96ed56fb4bae64b8",
      "value": 230
     }
    },
    "211109537fbe4e60b89a238c89db1346": {
     "model_module": "@jupyter-widgets/base",
     "model_name": "LayoutModel",
     "state": {
      "_model_module": "@jupyter-widgets/base",
      "_model_module_version": "1.2.0",
      "_model_name": "LayoutModel",
      "_view_count": null,
      "_view_module": "@jupyter-widgets/base",
      "_view_module_version": "1.2.0",
      "_view_name": "LayoutView",
      "align_content": null,
      "align_items": null,
      "align_self": null,
      "border": null,
      "bottom": null,
      "display": null,
      "flex": null,
      "flex_flow": null,
      "grid_area": null,
      "grid_auto_columns": null,
      "grid_auto_flow": null,
      "grid_auto_rows": null,
      "grid_column": null,
      "grid_gap": null,
      "grid_row": null,
      "grid_template_areas": null,
      "grid_template_columns": null,
      "grid_template_rows": null,
      "height": null,
      "justify_content": null,
      "justify_items": null,
      "left": null,
      "margin": null,
      "max_height": null,
      "max_width": null,
      "min_height": null,
      "min_width": null,
      "object_fit": null,
      "object_position": null,
      "order": null,
      "overflow": null,
      "overflow_x": null,
      "overflow_y": null,
      "padding": null,
      "right": null,
      "top": null,
      "visibility": null,
      "width": null
     }
    },
    "213567d815894ca08041f6d682ced3c9": {
     "model_module": "@jupyter-widgets/controls",
     "model_name": "IntProgressModel",
     "state": {
      "_dom_classes": [],
      "_model_module": "@jupyter-widgets/controls",
      "_model_module_version": "1.5.0",
      "_model_name": "IntProgressModel",
      "_view_count": null,
      "_view_module": "@jupyter-widgets/controls",
      "_view_module_version": "1.5.0",
      "_view_name": "ProgressView",
      "bar_style": "success",
      "description": "Downloading: 100%",
      "description_tooltip": null,
      "layout": "IPY_MODEL_876b2eba73fa46a6a941d2e3a8a975ad",
      "max": 230,
      "min": 0,
      "orientation": "horizontal",
      "style": "IPY_MODEL_3e556abf5c4a4ee69d52366fd59471b2",
      "value": 230
     }
    },
    "23377596349e40a89ea57c8558660073": {
     "model_module": "@jupyter-widgets/base",
     "model_name": "LayoutModel",
     "state": {
      "_model_module": "@jupyter-widgets/base",
      "_model_module_version": "1.2.0",
      "_model_name": "LayoutModel",
      "_view_count": null,
      "_view_module": "@jupyter-widgets/base",
      "_view_module_version": "1.2.0",
      "_view_name": "LayoutView",
      "align_content": null,
      "align_items": null,
      "align_self": null,
      "border": null,
      "bottom": null,
      "display": null,
      "flex": null,
      "flex_flow": null,
      "grid_area": null,
      "grid_auto_columns": null,
      "grid_auto_flow": null,
      "grid_auto_rows": null,
      "grid_column": null,
      "grid_gap": null,
      "grid_row": null,
      "grid_template_areas": null,
      "grid_template_columns": null,
      "grid_template_rows": null,
      "height": null,
      "justify_content": null,
      "justify_items": null,
      "left": null,
      "margin": null,
      "max_height": null,
      "max_width": null,
      "min_height": null,
      "min_width": null,
      "object_fit": null,
      "object_position": null,
      "order": null,
      "overflow": null,
      "overflow_x": null,
      "overflow_y": null,
      "padding": null,
      "right": null,
      "top": null,
      "visibility": null,
      "width": null
     }
    },
    "279291efd2c14a9eb2c3b98efbf152ad": {
     "model_module": "@jupyter-widgets/base",
     "model_name": "LayoutModel",
     "state": {
      "_model_module": "@jupyter-widgets/base",
      "_model_module_version": "1.2.0",
      "_model_name": "LayoutModel",
      "_view_count": null,
      "_view_module": "@jupyter-widgets/base",
      "_view_module_version": "1.2.0",
      "_view_name": "LayoutView",
      "align_content": null,
      "align_items": null,
      "align_self": null,
      "border": null,
      "bottom": null,
      "display": null,
      "flex": null,
      "flex_flow": null,
      "grid_area": null,
      "grid_auto_columns": null,
      "grid_auto_flow": null,
      "grid_auto_rows": null,
      "grid_column": null,
      "grid_gap": null,
      "grid_row": null,
      "grid_template_areas": null,
      "grid_template_columns": null,
      "grid_template_rows": null,
      "height": null,
      "justify_content": null,
      "justify_items": null,
      "left": null,
      "margin": null,
      "max_height": null,
      "max_width": null,
      "min_height": null,
      "min_width": null,
      "object_fit": null,
      "object_position": null,
      "order": null,
      "overflow": null,
      "overflow_x": null,
      "overflow_y": null,
      "padding": null,
      "right": null,
      "top": null,
      "visibility": null,
      "width": null
     }
    },
    "2e45f2d7d65246ecb8d6e666d026ac13": {
     "model_module": "@jupyter-widgets/controls",
     "model_name": "HTMLModel",
     "state": {
      "_dom_classes": [],
      "_model_module": "@jupyter-widgets/controls",
      "_model_module_version": "1.5.0",
      "_model_name": "HTMLModel",
      "_view_count": null,
      "_view_module": "@jupyter-widgets/controls",
      "_view_module_version": "1.5.0",
      "_view_name": "HTMLView",
      "description": "",
      "description_tooltip": null,
      "layout": "IPY_MODEL_d6228324f3444aa6bd1323d65ae4ff75",
      "placeholder": "​",
      "style": "IPY_MODEL_4486f8a2efc34b9aab3864eb5ad2ba48",
      "value": " 230/230 [00:01&lt;00:00, 126B/s]"
     }
    },
    "311a65b811964ebfa2c064eb348b3ce9": {
     "model_module": "@jupyter-widgets/controls",
     "model_name": "HBoxModel",
     "state": {
      "_dom_classes": [],
      "_model_module": "@jupyter-widgets/controls",
      "_model_module_version": "1.5.0",
      "_model_name": "HBoxModel",
      "_view_count": null,
      "_view_module": "@jupyter-widgets/controls",
      "_view_module_version": "1.5.0",
      "_view_name": "HBoxView",
      "box_style": "",
      "children": [
       "IPY_MODEL_54d1ff55e0094a4fa2b62ecdfb428328",
       "IPY_MODEL_2e45f2d7d65246ecb8d6e666d026ac13"
      ],
      "layout": "IPY_MODEL_5a2032c44d0e4f8cbaf512e6c29214cd"
     }
    },
    "31d97ecf78fa412c99e6659196d82828": {
     "model_module": "@jupyter-widgets/controls",
     "model_name": "DescriptionStyleModel",
     "state": {
      "_model_module": "@jupyter-widgets/controls",
      "_model_module_version": "1.5.0",
      "_model_name": "DescriptionStyleModel",
      "_view_count": null,
      "_view_module": "@jupyter-widgets/base",
      "_view_module_version": "1.2.0",
      "_view_name": "StyleView",
      "description_width": ""
     }
    },
    "39721262fc1e4456966d92fabe0f54ea": {
     "model_module": "@jupyter-widgets/base",
     "model_name": "LayoutModel",
     "state": {
      "_model_module": "@jupyter-widgets/base",
      "_model_module_version": "1.2.0",
      "_model_name": "LayoutModel",
      "_view_count": null,
      "_view_module": "@jupyter-widgets/base",
      "_view_module_version": "1.2.0",
      "_view_name": "LayoutView",
      "align_content": null,
      "align_items": null,
      "align_self": null,
      "border": null,
      "bottom": null,
      "display": null,
      "flex": null,
      "flex_flow": null,
      "grid_area": null,
      "grid_auto_columns": null,
      "grid_auto_flow": null,
      "grid_auto_rows": null,
      "grid_column": null,
      "grid_gap": null,
      "grid_row": null,
      "grid_template_areas": null,
      "grid_template_columns": null,
      "grid_template_rows": null,
      "height": null,
      "justify_content": null,
      "justify_items": null,
      "left": null,
      "margin": null,
      "max_height": null,
      "max_width": null,
      "min_height": null,
      "min_width": null,
      "object_fit": null,
      "object_position": null,
      "order": null,
      "overflow": null,
      "overflow_x": null,
      "overflow_y": null,
      "padding": null,
      "right": null,
      "top": null,
      "visibility": null,
      "width": null
     }
    },
    "3b12aec414b14221ad2a11dfd975faa0": {
     "model_module": "@jupyter-widgets/controls",
     "model_name": "TextModel",
     "state": {
      "_dom_classes": [],
      "_model_module": "@jupyter-widgets/controls",
      "_model_module_version": "1.5.0",
      "_model_name": "TextModel",
      "_view_count": null,
      "_view_module": "@jupyter-widgets/controls",
      "_view_module_version": "1.5.0",
      "_view_name": "TextView",
      "continuous_update": true,
      "description": "Question:",
      "description_tooltip": null,
      "disabled": false,
      "layout": "IPY_MODEL_879f7a3747ad455d810c7a29918648ee",
      "placeholder": "Enter something",
      "style": "IPY_MODEL_d305ba1662e3466c93ab5cca7ebf8f33",
      "value": "Why is Einstein famous for ?"
     }
    },
    "3e556abf5c4a4ee69d52366fd59471b2": {
     "model_module": "@jupyter-widgets/controls",
     "model_name": "ProgressStyleModel",
     "state": {
      "_model_module": "@jupyter-widgets/controls",
      "_model_module_version": "1.5.0",
      "_model_name": "ProgressStyleModel",
      "_view_count": null,
      "_view_module": "@jupyter-widgets/base",
      "_view_module_version": "1.2.0",
      "_view_name": "StyleView",
      "bar_color": null,
      "description_width": "initial"
     }
    },
    "3eff293c2b554d85aefaea863e29b678": {
     "model_module": "@jupyter-widgets/base",
     "model_name": "LayoutModel",
     "state": {
      "_model_module": "@jupyter-widgets/base",
      "_model_module_version": "1.2.0",
      "_model_name": "LayoutModel",
      "_view_count": null,
      "_view_module": "@jupyter-widgets/base",
      "_view_module_version": "1.2.0",
      "_view_name": "LayoutView",
      "align_content": null,
      "align_items": null,
      "align_self": null,
      "border": null,
      "bottom": null,
      "display": null,
      "flex": null,
      "flex_flow": null,
      "grid_area": null,
      "grid_auto_columns": null,
      "grid_auto_flow": null,
      "grid_auto_rows": null,
      "grid_column": null,
      "grid_gap": null,
      "grid_row": null,
      "grid_template_areas": null,
      "grid_template_columns": null,
      "grid_template_rows": null,
      "height": null,
      "justify_content": null,
      "justify_items": null,
      "left": null,
      "margin": null,
      "max_height": null,
      "max_width": null,
      "min_height": null,
      "min_width": null,
      "object_fit": null,
      "object_position": null,
      "order": null,
      "overflow": null,
      "overflow_x": null,
      "overflow_y": null,
      "padding": null,
      "right": null,
      "top": null,
      "visibility": null,
      "width": null
     }
    },
    "3f5406df699e44f5b60678c1c13500f5": {
     "model_module": "@jupyter-widgets/controls",
     "model_name": "DescriptionStyleModel",
     "state": {
      "_model_module": "@jupyter-widgets/controls",
      "_model_module_version": "1.5.0",
      "_model_name": "DescriptionStyleModel",
      "_view_count": null,
      "_view_module": "@jupyter-widgets/base",
      "_view_module_version": "1.2.0",
      "_view_name": "StyleView",
      "description_width": ""
     }
    },
    "405afa5bb8b840d8bc0850e02f593ce4": {
     "model_module": "@jupyter-widgets/controls",
     "model_name": "DescriptionStyleModel",
     "state": {
      "_model_module": "@jupyter-widgets/controls",
      "_model_module_version": "1.5.0",
      "_model_name": "DescriptionStyleModel",
      "_view_count": null,
      "_view_module": "@jupyter-widgets/base",
      "_view_module_version": "1.2.0",
      "_view_name": "StyleView",
      "description_width": ""
     }
    },
    "40c8d2617f3d4c84b923b140456fa5da": {
     "model_module": "@jupyter-widgets/base",
     "model_name": "LayoutModel",
     "state": {
      "_model_module": "@jupyter-widgets/base",
      "_model_module_version": "1.2.0",
      "_model_name": "LayoutModel",
      "_view_count": null,
      "_view_module": "@jupyter-widgets/base",
      "_view_module_version": "1.2.0",
      "_view_name": "LayoutView",
      "align_content": null,
      "align_items": null,
      "align_self": null,
      "border": null,
      "bottom": null,
      "display": null,
      "flex": null,
      "flex_flow": null,
      "grid_area": null,
      "grid_auto_columns": null,
      "grid_auto_flow": null,
      "grid_auto_rows": null,
      "grid_column": null,
      "grid_gap": null,
      "grid_row": null,
      "grid_template_areas": null,
      "grid_template_columns": null,
      "grid_template_rows": null,
      "height": null,
      "justify_content": null,
      "justify_items": null,
      "left": null,
      "margin": null,
      "max_height": null,
      "max_width": null,
      "min_height": null,
      "min_width": null,
      "object_fit": null,
      "object_position": null,
      "order": null,
      "overflow": null,
      "overflow_x": null,
      "overflow_y": null,
      "padding": null,
      "right": null,
      "top": null,
      "visibility": null,
      "width": null
     }
    },
    "427e07ce24a442af84ddc71f9463fdff": {
     "model_module": "@jupyter-widgets/controls",
     "model_name": "HTMLModel",
     "state": {
      "_dom_classes": [],
      "_model_module": "@jupyter-widgets/controls",
      "_model_module_version": "1.5.0",
      "_model_name": "HTMLModel",
      "_view_count": null,
      "_view_module": "@jupyter-widgets/controls",
      "_view_module_version": "1.5.0",
      "_view_name": "HTMLView",
      "description": "",
      "description_tooltip": null,
      "layout": "IPY_MODEL_9df7014c99b343f3b178fa020ff56010",
      "placeholder": "​",
      "style": "IPY_MODEL_a35703cc8ff44e93a8c0eb413caddc40",
      "value": " 230/230 [00:01&lt;00:00, 120B/s]"
     }
    },
    "4486f8a2efc34b9aab3864eb5ad2ba48": {
     "model_module": "@jupyter-widgets/controls",
     "model_name": "DescriptionStyleModel",
     "state": {
      "_model_module": "@jupyter-widgets/controls",
      "_model_module_version": "1.5.0",
      "_model_name": "DescriptionStyleModel",
      "_view_count": null,
      "_view_module": "@jupyter-widgets/base",
      "_view_module_version": "1.2.0",
      "_view_name": "StyleView",
      "description_width": ""
     }
    },
    "451464c936444ba5a652b46c1b4f9931": {
     "model_module": "@jupyter-widgets/controls",
     "model_name": "HBoxModel",
     "state": {
      "_dom_classes": [],
      "_model_module": "@jupyter-widgets/controls",
      "_model_module_version": "1.5.0",
      "_model_name": "HBoxModel",
      "_view_count": null,
      "_view_module": "@jupyter-widgets/controls",
      "_view_module_version": "1.5.0",
      "_view_name": "HBoxView",
      "box_style": "",
      "children": [
       "IPY_MODEL_b6e1a2e57f4948a39283f1370352612c",
       "IPY_MODEL_9d4941ebdfa64978b47232f6e5908d97"
      ],
      "layout": "IPY_MODEL_279291efd2c14a9eb2c3b98efbf152ad"
     }
    },
    "4bab5df43b3c46caadf48e264344ab42": {
     "model_module": "@jupyter-widgets/controls",
     "model_name": "HBoxModel",
     "state": {
      "_dom_classes": [],
      "_model_module": "@jupyter-widgets/controls",
      "_model_module_version": "1.5.0",
      "_model_name": "HBoxModel",
      "_view_count": null,
      "_view_module": "@jupyter-widgets/controls",
      "_view_module_version": "1.5.0",
      "_view_name": "HBoxView",
      "box_style": "",
      "children": [
       "IPY_MODEL_6902104f7ec143519fb1a6ab9363d4a0",
       "IPY_MODEL_c133fb34fe2a4aba8a6b233671af8b04"
      ],
      "layout": "IPY_MODEL_9b426c68631f4bb288e2ca79aad9f9d9"
     }
    },
    "5462b581976e47048642aa6bc12435bd": {
     "model_module": "@jupyter-widgets/base",
     "model_name": "LayoutModel",
     "state": {
      "_model_module": "@jupyter-widgets/base",
      "_model_module_version": "1.2.0",
      "_model_name": "LayoutModel",
      "_view_count": null,
      "_view_module": "@jupyter-widgets/base",
      "_view_module_version": "1.2.0",
      "_view_name": "LayoutView",
      "align_content": null,
      "align_items": null,
      "align_self": null,
      "border": null,
      "bottom": null,
      "display": null,
      "flex": null,
      "flex_flow": null,
      "grid_area": null,
      "grid_auto_columns": null,
      "grid_auto_flow": null,
      "grid_auto_rows": null,
      "grid_column": null,
      "grid_gap": null,
      "grid_row": null,
      "grid_template_areas": null,
      "grid_template_columns": null,
      "grid_template_rows": null,
      "height": null,
      "justify_content": null,
      "justify_items": null,
      "left": null,
      "margin": null,
      "max_height": null,
      "max_width": null,
      "min_height": null,
      "min_width": null,
      "object_fit": null,
      "object_position": null,
      "order": null,
      "overflow": null,
      "overflow_x": null,
      "overflow_y": null,
      "padding": null,
      "right": null,
      "top": null,
      "visibility": null,
      "width": null
     }
    },
    "54d1ff55e0094a4fa2b62ecdfb428328": {
     "model_module": "@jupyter-widgets/controls",
     "model_name": "IntProgressModel",
     "state": {
      "_dom_classes": [],
      "_model_module": "@jupyter-widgets/controls",
      "_model_module_version": "1.5.0",
      "_model_name": "IntProgressModel",
      "_view_count": null,
      "_view_module": "@jupyter-widgets/controls",
      "_view_module_version": "1.5.0",
      "_view_name": "ProgressView",
      "bar_style": "success",
      "description": "Downloading: 100%",
      "description_tooltip": null,
      "layout": "IPY_MODEL_39721262fc1e4456966d92fabe0f54ea",
      "max": 230,
      "min": 0,
      "orientation": "horizontal",
      "style": "IPY_MODEL_e05c0ec3b49e4d4990a943d428532fb0",
      "value": 230
     }
    },
    "57e8c36594d043c581c766b434037771": {
     "model_module": "@jupyter-widgets/controls",
     "model_name": "HBoxModel",
     "state": {
      "_dom_classes": [],
      "_model_module": "@jupyter-widgets/controls",
      "_model_module_version": "1.5.0",
      "_model_name": "HBoxModel",
      "_view_count": null,
      "_view_module": "@jupyter-widgets/controls",
      "_view_module_version": "1.5.0",
      "_view_name": "HBoxView",
      "box_style": "",
      "children": [
       "IPY_MODEL_f2a1b430594b4736879cdff4ec532098",
       "IPY_MODEL_c81338551e60474fab9e9950fe5df294"
      ],
      "layout": "IPY_MODEL_82760185d5c14a808cbf6639b589f249"
     }
    },
    "58669943d3064f309436157270544c08": {
     "model_module": "@jupyter-widgets/controls",
     "model_name": "HBoxModel",
     "state": {
      "_dom_classes": [],
      "_model_module": "@jupyter-widgets/controls",
      "_model_module_version": "1.5.0",
      "_model_name": "HBoxModel",
      "_view_count": null,
      "_view_module": "@jupyter-widgets/controls",
      "_view_module_version": "1.5.0",
      "_view_name": "HBoxView",
      "box_style": "",
      "children": [
       "IPY_MODEL_d0b9925f3dde46008bf186cf5ef7722d",
       "IPY_MODEL_427e07ce24a442af84ddc71f9463fdff"
      ],
      "layout": "IPY_MODEL_3eff293c2b554d85aefaea863e29b678"
     }
    },
    "5a2032c44d0e4f8cbaf512e6c29214cd": {
     "model_module": "@jupyter-widgets/base",
     "model_name": "LayoutModel",
     "state": {
      "_model_module": "@jupyter-widgets/base",
      "_model_module_version": "1.2.0",
      "_model_name": "LayoutModel",
      "_view_count": null,
      "_view_module": "@jupyter-widgets/base",
      "_view_module_version": "1.2.0",
      "_view_name": "LayoutView",
      "align_content": null,
      "align_items": null,
      "align_self": null,
      "border": null,
      "bottom": null,
      "display": null,
      "flex": null,
      "flex_flow": null,
      "grid_area": null,
      "grid_auto_columns": null,
      "grid_auto_flow": null,
      "grid_auto_rows": null,
      "grid_column": null,
      "grid_gap": null,
      "grid_row": null,
      "grid_template_areas": null,
      "grid_template_columns": null,
      "grid_template_rows": null,
      "height": null,
      "justify_content": null,
      "justify_items": null,
      "left": null,
      "margin": null,
      "max_height": null,
      "max_width": null,
      "min_height": null,
      "min_width": null,
      "object_fit": null,
      "object_position": null,
      "order": null,
      "overflow": null,
      "overflow_x": null,
      "overflow_y": null,
      "padding": null,
      "right": null,
      "top": null,
      "visibility": null,
      "width": null
     }
    },
    "62b10ca525cc4ac68f3a006434eb7416": {
     "model_module": "@jupyter-widgets/controls",
     "model_name": "DescriptionStyleModel",
     "state": {
      "_model_module": "@jupyter-widgets/controls",
      "_model_module_version": "1.5.0",
      "_model_name": "DescriptionStyleModel",
      "_view_count": null,
      "_view_module": "@jupyter-widgets/base",
      "_view_module_version": "1.2.0",
      "_view_name": "StyleView",
      "description_width": ""
     }
    },
    "67cbaa1f55d24e62ad6b022af36bca56": {
     "model_module": "@jupyter-widgets/base",
     "model_name": "LayoutModel",
     "state": {
      "_model_module": "@jupyter-widgets/base",
      "_model_module_version": "1.2.0",
      "_model_name": "LayoutModel",
      "_view_count": null,
      "_view_module": "@jupyter-widgets/base",
      "_view_module_version": "1.2.0",
      "_view_name": "LayoutView",
      "align_content": null,
      "align_items": null,
      "align_self": null,
      "border": null,
      "bottom": null,
      "display": null,
      "flex": null,
      "flex_flow": null,
      "grid_area": null,
      "grid_auto_columns": null,
      "grid_auto_flow": null,
      "grid_auto_rows": null,
      "grid_column": null,
      "grid_gap": null,
      "grid_row": null,
      "grid_template_areas": null,
      "grid_template_columns": null,
      "grid_template_rows": null,
      "height": null,
      "justify_content": null,
      "justify_items": null,
      "left": null,
      "margin": null,
      "max_height": null,
      "max_width": null,
      "min_height": null,
      "min_width": null,
      "object_fit": null,
      "object_position": null,
      "order": null,
      "overflow": null,
      "overflow_x": null,
      "overflow_y": null,
      "padding": null,
      "right": null,
      "top": null,
      "visibility": null,
      "width": null
     }
    },
    "6902104f7ec143519fb1a6ab9363d4a0": {
     "model_module": "@jupyter-widgets/controls",
     "model_name": "IntProgressModel",
     "state": {
      "_dom_classes": [],
      "_model_module": "@jupyter-widgets/controls",
      "_model_module_version": "1.5.0",
      "_model_name": "IntProgressModel",
      "_view_count": null,
      "_view_module": "@jupyter-widgets/controls",
      "_view_module_version": "1.5.0",
      "_view_name": "ProgressView",
      "bar_style": "success",
      "description": "Downloading: 100%",
      "description_tooltip": null,
      "layout": "IPY_MODEL_5462b581976e47048642aa6bc12435bd",
      "max": 230,
      "min": 0,
      "orientation": "horizontal",
      "style": "IPY_MODEL_e3f72d443a74414ca62c2b848d34b125",
      "value": 230
     }
    },
    "691c0bae60364890ab74934261207d4d": {
     "model_module": "@jupyter-widgets/base",
     "model_name": "LayoutModel",
     "state": {
      "_model_module": "@jupyter-widgets/base",
      "_model_module_version": "1.2.0",
      "_model_name": "LayoutModel",
      "_view_count": null,
      "_view_module": "@jupyter-widgets/base",
      "_view_module_version": "1.2.0",
      "_view_name": "LayoutView",
      "align_content": null,
      "align_items": null,
      "align_self": null,
      "border": null,
      "bottom": null,
      "display": null,
      "flex": null,
      "flex_flow": null,
      "grid_area": null,
      "grid_auto_columns": null,
      "grid_auto_flow": null,
      "grid_auto_rows": null,
      "grid_column": null,
      "grid_gap": null,
      "grid_row": null,
      "grid_template_areas": null,
      "grid_template_columns": null,
      "grid_template_rows": null,
      "height": null,
      "justify_content": null,
      "justify_items": null,
      "left": null,
      "margin": null,
      "max_height": null,
      "max_width": null,
      "min_height": null,
      "min_width": null,
      "object_fit": null,
      "object_position": null,
      "order": null,
      "overflow": null,
      "overflow_x": null,
      "overflow_y": null,
      "padding": null,
      "right": null,
      "top": null,
      "visibility": null,
      "width": null
     }
    },
    "74cbcbae5cac4f12abf080a38390f05c": {
     "model_module": "@jupyter-widgets/controls",
     "model_name": "TextModel",
     "state": {
      "_dom_classes": [],
      "_model_module": "@jupyter-widgets/controls",
      "_model_module_version": "1.5.0",
      "_model_name": "TextModel",
      "_view_count": null,
      "_view_module": "@jupyter-widgets/controls",
      "_view_module_version": "1.5.0",
      "_view_name": "TextView",
      "continuous_update": true,
      "description": "Your input:",
      "description_tooltip": null,
      "disabled": false,
      "layout": "IPY_MODEL_211109537fbe4e60b89a238c89db1346",
      "placeholder": "Enter something",
      "style": "IPY_MODEL_62b10ca525cc4ac68f3a006434eb7416",
      "value": "Peter Pan likes to go on holiday in Marseille, France."
     }
    },
    "78c718e3d5fa4cb892217260bea6d540": {
     "model_module": "@jupyter-widgets/base",
     "model_name": "LayoutModel",
     "state": {
      "_model_module": "@jupyter-widgets/base",
      "_model_module_version": "1.2.0",
      "_model_name": "LayoutModel",
      "_view_count": null,
      "_view_module": "@jupyter-widgets/base",
      "_view_module_version": "1.2.0",
      "_view_name": "LayoutView",
      "align_content": null,
      "align_items": null,
      "align_self": null,
      "border": null,
      "bottom": null,
      "display": null,
      "flex": null,
      "flex_flow": null,
      "grid_area": null,
      "grid_auto_columns": null,
      "grid_auto_flow": null,
      "grid_auto_rows": null,
      "grid_column": null,
      "grid_gap": null,
      "grid_row": null,
      "grid_template_areas": null,
      "grid_template_columns": null,
      "grid_template_rows": null,
      "height": null,
      "justify_content": null,
      "justify_items": null,
      "left": null,
      "margin": null,
      "max_height": null,
      "max_width": null,
      "min_height": null,
      "min_width": null,
      "object_fit": null,
      "object_position": null,
      "order": null,
      "overflow": null,
      "overflow_x": null,
      "overflow_y": null,
      "padding": null,
      "right": null,
      "top": null,
      "visibility": null,
      "width": null
     }
    },
    "7a15588f85b14f2b93e32b4c0442fa1b": {
     "model_module": "@jupyter-widgets/base",
     "model_name": "LayoutModel",
     "state": {
      "_model_module": "@jupyter-widgets/base",
      "_model_module_version": "1.2.0",
      "_model_name": "LayoutModel",
      "_view_count": null,
      "_view_module": "@jupyter-widgets/base",
      "_view_module_version": "1.2.0",
      "_view_name": "LayoutView",
      "align_content": null,
      "align_items": null,
      "align_self": null,
      "border": null,
      "bottom": null,
      "display": null,
      "flex": null,
      "flex_flow": null,
      "grid_area": null,
      "grid_auto_columns": null,
      "grid_auto_flow": null,
      "grid_auto_rows": null,
      "grid_column": null,
      "grid_gap": null,
      "grid_row": null,
      "grid_template_areas": null,
      "grid_template_columns": null,
      "grid_template_rows": null,
      "height": null,
      "justify_content": null,
      "justify_items": null,
      "left": null,
      "margin": null,
      "max_height": null,
      "max_width": null,
      "min_height": null,
      "min_width": null,
      "object_fit": null,
      "object_position": null,
      "order": null,
      "overflow": null,
      "overflow_x": null,
      "overflow_y": null,
      "padding": null,
      "right": null,
      "top": null,
      "visibility": null,
      "width": null
     }
    },
    "7ab70324d42647acac5020b387955caf": {
     "model_module": "@jupyter-widgets/base",
     "model_name": "LayoutModel",
     "state": {
      "_model_module": "@jupyter-widgets/base",
      "_model_module_version": "1.2.0",
      "_model_name": "LayoutModel",
      "_view_count": null,
      "_view_module": "@jupyter-widgets/base",
      "_view_module_version": "1.2.0",
      "_view_name": "LayoutView",
      "align_content": null,
      "align_items": null,
      "align_self": null,
      "border": null,
      "bottom": null,
      "display": null,
      "flex": null,
      "flex_flow": null,
      "grid_area": null,
      "grid_auto_columns": null,
      "grid_auto_flow": null,
      "grid_auto_rows": null,
      "grid_column": null,
      "grid_gap": null,
      "grid_row": null,
      "grid_template_areas": null,
      "grid_template_columns": null,
      "grid_template_rows": null,
      "height": null,
      "justify_content": null,
      "justify_items": null,
      "left": null,
      "margin": null,
      "max_height": null,
      "max_width": null,
      "min_height": null,
      "min_width": null,
      "object_fit": null,
      "object_position": null,
      "order": null,
      "overflow": null,
      "overflow_x": null,
      "overflow_y": null,
      "padding": null,
      "right": null,
      "top": null,
      "visibility": null,
      "width": null
     }
    },
    "7d66a4534c164d2f9493fc0467abebbd": {
     "model_module": "@jupyter-widgets/controls",
     "model_name": "HBoxModel",
     "state": {
      "_dom_classes": [],
      "_model_module": "@jupyter-widgets/controls",
      "_model_module_version": "1.5.0",
      "_model_name": "HBoxModel",
      "_view_count": null,
      "_view_module": "@jupyter-widgets/controls",
      "_view_module_version": "1.5.0",
      "_view_name": "HBoxView",
      "box_style": "",
      "children": [
       "IPY_MODEL_213567d815894ca08041f6d682ced3c9",
       "IPY_MODEL_ee6c95e700e64d0a9ebec2c1545dd083"
      ],
      "layout": "IPY_MODEL_7a15588f85b14f2b93e32b4c0442fa1b"
     }
    },
    "82760185d5c14a808cbf6639b589f249": {
     "model_module": "@jupyter-widgets/base",
     "model_name": "LayoutModel",
     "state": {
      "_model_module": "@jupyter-widgets/base",
      "_model_module_version": "1.2.0",
      "_model_name": "LayoutModel",
      "_view_count": null,
      "_view_module": "@jupyter-widgets/base",
      "_view_module_version": "1.2.0",
      "_view_name": "LayoutView",
      "align_content": null,
      "align_items": null,
      "align_self": null,
      "border": null,
      "bottom": null,
      "display": null,
      "flex": null,
      "flex_flow": null,
      "grid_area": null,
      "grid_auto_columns": null,
      "grid_auto_flow": null,
      "grid_auto_rows": null,
      "grid_column": null,
      "grid_gap": null,
      "grid_row": null,
      "grid_template_areas": null,
      "grid_template_columns": null,
      "grid_template_rows": null,
      "height": null,
      "justify_content": null,
      "justify_items": null,
      "left": null,
      "margin": null,
      "max_height": null,
      "max_width": null,
      "min_height": null,
      "min_width": null,
      "object_fit": null,
      "object_position": null,
      "order": null,
      "overflow": null,
      "overflow_x": null,
      "overflow_y": null,
      "padding": null,
      "right": null,
      "top": null,
      "visibility": null,
      "width": null
     }
    },
    "876b2eba73fa46a6a941d2e3a8a975ad": {
     "model_module": "@jupyter-widgets/base",
     "model_name": "LayoutModel",
     "state": {
      "_model_module": "@jupyter-widgets/base",
      "_model_module_version": "1.2.0",
      "_model_name": "LayoutModel",
      "_view_count": null,
      "_view_module": "@jupyter-widgets/base",
      "_view_module_version": "1.2.0",
      "_view_name": "LayoutView",
      "align_content": null,
      "align_items": null,
      "align_self": null,
      "border": null,
      "bottom": null,
      "display": null,
      "flex": null,
      "flex_flow": null,
      "grid_area": null,
      "grid_auto_columns": null,
      "grid_auto_flow": null,
      "grid_auto_rows": null,
      "grid_column": null,
      "grid_gap": null,
      "grid_row": null,
      "grid_template_areas": null,
      "grid_template_columns": null,
      "grid_template_rows": null,
      "height": null,
      "justify_content": null,
      "justify_items": null,
      "left": null,
      "margin": null,
      "max_height": null,
      "max_width": null,
      "min_height": null,
      "min_width": null,
      "object_fit": null,
      "object_position": null,
      "order": null,
      "overflow": null,
      "overflow_x": null,
      "overflow_y": null,
      "padding": null,
      "right": null,
      "top": null,
      "visibility": null,
      "width": null
     }
    },
    "879ef9e1a0e94f3d96ed56fb4bae64b8": {
     "model_module": "@jupyter-widgets/controls",
     "model_name": "ProgressStyleModel",
     "state": {
      "_model_module": "@jupyter-widgets/controls",
      "_model_module_version": "1.5.0",
      "_model_name": "ProgressStyleModel",
      "_view_count": null,
      "_view_module": "@jupyter-widgets/base",
      "_view_module_version": "1.2.0",
      "_view_name": "StyleView",
      "bar_color": null,
      "description_width": "initial"
     }
    },
    "879f7a3747ad455d810c7a29918648ee": {
     "model_module": "@jupyter-widgets/base",
     "model_name": "LayoutModel",
     "state": {
      "_model_module": "@jupyter-widgets/base",
      "_model_module_version": "1.2.0",
      "_model_name": "LayoutModel",
      "_view_count": null,
      "_view_module": "@jupyter-widgets/base",
      "_view_module_version": "1.2.0",
      "_view_name": "LayoutView",
      "align_content": null,
      "align_items": null,
      "align_self": null,
      "border": null,
      "bottom": null,
      "display": null,
      "flex": null,
      "flex_flow": null,
      "grid_area": null,
      "grid_auto_columns": null,
      "grid_auto_flow": null,
      "grid_auto_rows": null,
      "grid_column": null,
      "grid_gap": null,
      "grid_row": null,
      "grid_template_areas": null,
      "grid_template_columns": null,
      "grid_template_rows": null,
      "height": null,
      "justify_content": null,
      "justify_items": null,
      "left": null,
      "margin": null,
      "max_height": null,
      "max_width": null,
      "min_height": null,
      "min_width": null,
      "object_fit": null,
      "object_position": null,
      "order": null,
      "overflow": null,
      "overflow_x": null,
      "overflow_y": null,
      "padding": null,
      "right": null,
      "top": null,
      "visibility": null,
      "width": null
     }
    },
    "8c0e1b7fb6ac4ee7bbbaf6020b40cc77": {
     "model_module": "@jupyter-widgets/base",
     "model_name": "LayoutModel",
     "state": {
      "_model_module": "@jupyter-widgets/base",
      "_model_module_version": "1.2.0",
      "_model_name": "LayoutModel",
      "_view_count": null,
      "_view_module": "@jupyter-widgets/base",
      "_view_module_version": "1.2.0",
      "_view_name": "LayoutView",
      "align_content": null,
      "align_items": null,
      "align_self": null,
      "border": null,
      "bottom": null,
      "display": null,
      "flex": null,
      "flex_flow": null,
      "grid_area": null,
      "grid_auto_columns": null,
      "grid_auto_flow": null,
      "grid_auto_rows": null,
      "grid_column": null,
      "grid_gap": null,
      "grid_row": null,
      "grid_template_areas": null,
      "grid_template_columns": null,
      "grid_template_rows": null,
      "height": null,
      "justify_content": null,
      "justify_items": null,
      "left": null,
      "margin": null,
      "max_height": null,
      "max_width": null,
      "min_height": null,
      "min_width": null,
      "object_fit": null,
      "object_position": null,
      "order": null,
      "overflow": null,
      "overflow_x": null,
      "overflow_y": null,
      "padding": null,
      "right": null,
      "top": null,
      "visibility": null,
      "width": null
     }
    },
    "98563b405bd043a9a301a43909e43157": {
     "model_module": "@jupyter-widgets/controls",
     "model_name": "ProgressStyleModel",
     "state": {
      "_model_module": "@jupyter-widgets/controls",
      "_model_module_version": "1.5.0",
      "_model_name": "ProgressStyleModel",
      "_view_count": null,
      "_view_module": "@jupyter-widgets/base",
      "_view_module_version": "1.2.0",
      "_view_name": "StyleView",
      "bar_color": null,
      "description_width": "initial"
     }
    },
    "9b426c68631f4bb288e2ca79aad9f9d9": {
     "model_module": "@jupyter-widgets/base",
     "model_name": "LayoutModel",
     "state": {
      "_model_module": "@jupyter-widgets/base",
      "_model_module_version": "1.2.0",
      "_model_name": "LayoutModel",
      "_view_count": null,
      "_view_module": "@jupyter-widgets/base",
      "_view_module_version": "1.2.0",
      "_view_name": "LayoutView",
      "align_content": null,
      "align_items": null,
      "align_self": null,
      "border": null,
      "bottom": null,
      "display": null,
      "flex": null,
      "flex_flow": null,
      "grid_area": null,
      "grid_auto_columns": null,
      "grid_auto_flow": null,
      "grid_auto_rows": null,
      "grid_column": null,
      "grid_gap": null,
      "grid_row": null,
      "grid_template_areas": null,
      "grid_template_columns": null,
      "grid_template_rows": null,
      "height": null,
      "justify_content": null,
      "justify_items": null,
      "left": null,
      "margin": null,
      "max_height": null,
      "max_width": null,
      "min_height": null,
      "min_width": null,
      "object_fit": null,
      "object_position": null,
      "order": null,
      "overflow": null,
      "overflow_x": null,
      "overflow_y": null,
      "padding": null,
      "right": null,
      "top": null,
      "visibility": null,
      "width": null
     }
    },
    "9d4941ebdfa64978b47232f6e5908d97": {
     "model_module": "@jupyter-widgets/controls",
     "model_name": "HTMLModel",
     "state": {
      "_dom_classes": [],
      "_model_module": "@jupyter-widgets/controls",
      "_model_module_version": "1.5.0",
      "_model_name": "HTMLModel",
      "_view_count": null,
      "_view_module": "@jupyter-widgets/controls",
      "_view_module_version": "1.5.0",
      "_view_name": "HTMLView",
      "description": "",
      "description_tooltip": null,
      "layout": "IPY_MODEL_78c718e3d5fa4cb892217260bea6d540",
      "placeholder": "​",
      "style": "IPY_MODEL_405afa5bb8b840d8bc0850e02f593ce4",
      "value": " 230/230 [00:01&lt;00:00, 198B/s]"
     }
    },
    "9df7014c99b343f3b178fa020ff56010": {
     "model_module": "@jupyter-widgets/base",
     "model_name": "LayoutModel",
     "state": {
      "_model_module": "@jupyter-widgets/base",
      "_model_module_version": "1.2.0",
      "_model_name": "LayoutModel",
      "_view_count": null,
      "_view_module": "@jupyter-widgets/base",
      "_view_module_version": "1.2.0",
      "_view_name": "LayoutView",
      "align_content": null,
      "align_items": null,
      "align_self": null,
      "border": null,
      "bottom": null,
      "display": null,
      "flex": null,
      "flex_flow": null,
      "grid_area": null,
      "grid_auto_columns": null,
      "grid_auto_flow": null,
      "grid_auto_rows": null,
      "grid_column": null,
      "grid_gap": null,
      "grid_row": null,
      "grid_template_areas": null,
      "grid_template_columns": null,
      "grid_template_rows": null,
      "height": null,
      "justify_content": null,
      "justify_items": null,
      "left": null,
      "margin": null,
      "max_height": null,
      "max_width": null,
      "min_height": null,
      "min_width": null,
      "object_fit": null,
      "object_position": null,
      "order": null,
      "overflow": null,
      "overflow_x": null,
      "overflow_y": null,
      "padding": null,
      "right": null,
      "top": null,
      "visibility": null,
      "width": null
     }
    },
    "a02164204f0f43668bc36a907e720af7": {
     "model_module": "@jupyter-widgets/base",
     "model_name": "LayoutModel",
     "state": {
      "_model_module": "@jupyter-widgets/base",
      "_model_module_version": "1.2.0",
      "_model_name": "LayoutModel",
      "_view_count": null,
      "_view_module": "@jupyter-widgets/base",
      "_view_module_version": "1.2.0",
      "_view_name": "LayoutView",
      "align_content": null,
      "align_items": null,
      "align_self": null,
      "border": null,
      "bottom": null,
      "display": null,
      "flex": null,
      "flex_flow": null,
      "grid_area": null,
      "grid_auto_columns": null,
      "grid_auto_flow": null,
      "grid_auto_rows": null,
      "grid_column": null,
      "grid_gap": null,
      "grid_row": null,
      "grid_template_areas": null,
      "grid_template_columns": null,
      "grid_template_rows": null,
      "height": null,
      "justify_content": null,
      "justify_items": null,
      "left": null,
      "margin": null,
      "max_height": null,
      "max_width": null,
      "min_height": null,
      "min_width": null,
      "object_fit": null,
      "object_position": null,
      "order": null,
      "overflow": null,
      "overflow_x": null,
      "overflow_y": null,
      "padding": null,
      "right": null,
      "top": null,
      "visibility": null,
      "width": null
     }
    },
    "a246f9eea2d7440cb979e728741d2e32": {
     "model_module": "@jupyter-widgets/base",
     "model_name": "LayoutModel",
     "state": {
      "_model_module": "@jupyter-widgets/base",
      "_model_module_version": "1.2.0",
      "_model_name": "LayoutModel",
      "_view_count": null,
      "_view_module": "@jupyter-widgets/base",
      "_view_module_version": "1.2.0",
      "_view_name": "LayoutView",
      "align_content": null,
      "align_items": null,
      "align_self": null,
      "border": null,
      "bottom": null,
      "display": null,
      "flex": null,
      "flex_flow": null,
      "grid_area": null,
      "grid_auto_columns": null,
      "grid_auto_flow": null,
      "grid_auto_rows": null,
      "grid_column": null,
      "grid_gap": null,
      "grid_row": null,
      "grid_template_areas": null,
      "grid_template_columns": null,
      "grid_template_rows": null,
      "height": null,
      "justify_content": null,
      "justify_items": null,
      "left": null,
      "margin": null,
      "max_height": null,
      "max_width": null,
      "min_height": null,
      "min_width": null,
      "object_fit": null,
      "object_position": null,
      "order": null,
      "overflow": null,
      "overflow_x": null,
      "overflow_y": null,
      "padding": null,
      "right": null,
      "top": null,
      "visibility": null,
      "width": null
     }
    },
    "a35703cc8ff44e93a8c0eb413caddc40": {
     "model_module": "@jupyter-widgets/controls",
     "model_name": "DescriptionStyleModel",
     "state": {
      "_model_module": "@jupyter-widgets/controls",
      "_model_module_version": "1.5.0",
      "_model_name": "DescriptionStyleModel",
      "_view_count": null,
      "_view_module": "@jupyter-widgets/base",
      "_view_module_version": "1.2.0",
      "_view_name": "StyleView",
      "description_width": ""
     }
    },
    "ab5774ac19f84ab18ddf09a63433df00": {
     "model_module": "@jupyter-widgets/controls",
     "model_name": "DescriptionStyleModel",
     "state": {
      "_model_module": "@jupyter-widgets/controls",
      "_model_module_version": "1.5.0",
      "_model_name": "DescriptionStyleModel",
      "_view_count": null,
      "_view_module": "@jupyter-widgets/base",
      "_view_module_version": "1.2.0",
      "_view_name": "StyleView",
      "description_width": ""
     }
    },
    "ad78042ee71a41fd989e4b4ce9d2e3c1": {
     "model_module": "@jupyter-widgets/controls",
     "model_name": "DescriptionStyleModel",
     "state": {
      "_model_module": "@jupyter-widgets/controls",
      "_model_module_version": "1.5.0",
      "_model_name": "DescriptionStyleModel",
      "_view_count": null,
      "_view_module": "@jupyter-widgets/base",
      "_view_module_version": "1.2.0",
      "_view_name": "StyleView",
      "description_width": ""
     }
    },
    "ad84da685cf44abb90d17d9d2e023b48": {
     "model_module": "@jupyter-widgets/controls",
     "model_name": "DescriptionStyleModel",
     "state": {
      "_model_module": "@jupyter-widgets/controls",
      "_model_module_version": "1.5.0",
      "_model_name": "DescriptionStyleModel",
      "_view_count": null,
      "_view_module": "@jupyter-widgets/base",
      "_view_module_version": "1.2.0",
      "_view_name": "StyleView",
      "description_width": ""
     }
    },
    "b6e1a2e57f4948a39283f1370352612c": {
     "model_module": "@jupyter-widgets/controls",
     "model_name": "IntProgressModel",
     "state": {
      "_dom_classes": [],
      "_model_module": "@jupyter-widgets/controls",
      "_model_module_version": "1.5.0",
      "_model_name": "IntProgressModel",
      "_view_count": null,
      "_view_module": "@jupyter-widgets/controls",
      "_view_module_version": "1.5.0",
      "_view_name": "ProgressView",
      "bar_style": "success",
      "description": "Downloading: 100%",
      "description_tooltip": null,
      "layout": "IPY_MODEL_691c0bae60364890ab74934261207d4d",
      "max": 230,
      "min": 0,
      "orientation": "horizontal",
      "style": "IPY_MODEL_1006cc0fab1e4139bb7b135486261c92",
      "value": 230
     }
    },
    "b8c0ea31578d4eaaa69251d0004fd8c6": {
     "model_module": "@jupyter-widgets/base",
     "model_name": "LayoutModel",
     "state": {
      "_model_module": "@jupyter-widgets/base",
      "_model_module_version": "1.2.0",
      "_model_name": "LayoutModel",
      "_view_count": null,
      "_view_module": "@jupyter-widgets/base",
      "_view_module_version": "1.2.0",
      "_view_name": "LayoutView",
      "align_content": null,
      "align_items": null,
      "align_self": null,
      "border": null,
      "bottom": null,
      "display": null,
      "flex": null,
      "flex_flow": null,
      "grid_area": null,
      "grid_auto_columns": null,
      "grid_auto_flow": null,
      "grid_auto_rows": null,
      "grid_column": null,
      "grid_gap": null,
      "grid_row": null,
      "grid_template_areas": null,
      "grid_template_columns": null,
      "grid_template_rows": null,
      "height": null,
      "justify_content": null,
      "justify_items": null,
      "left": null,
      "margin": null,
      "max_height": null,
      "max_width": null,
      "min_height": null,
      "min_width": null,
      "object_fit": null,
      "object_position": null,
      "order": null,
      "overflow": null,
      "overflow_x": null,
      "overflow_y": null,
      "padding": null,
      "right": null,
      "top": null,
      "visibility": null,
      "width": null
     }
    },
    "c133fb34fe2a4aba8a6b233671af8b04": {
     "model_module": "@jupyter-widgets/controls",
     "model_name": "HTMLModel",
     "state": {
      "_dom_classes": [],
      "_model_module": "@jupyter-widgets/controls",
      "_model_module_version": "1.5.0",
      "_model_name": "HTMLModel",
      "_view_count": null,
      "_view_module": "@jupyter-widgets/controls",
      "_view_module_version": "1.5.0",
      "_view_name": "HTMLView",
      "description": "",
      "description_tooltip": null,
      "layout": "IPY_MODEL_a246f9eea2d7440cb979e728741d2e32",
      "placeholder": "​",
      "style": "IPY_MODEL_ad84da685cf44abb90d17d9d2e023b48",
      "value": " 230/230 [00:01&lt;00:00, 194B/s]"
     }
    },
    "c6be5d48ec3c4c799d1445607e5f1ac6": {
     "model_module": "@jupyter-widgets/base",
     "model_name": "LayoutModel",
     "state": {
      "_model_module": "@jupyter-widgets/base",
      "_model_module_version": "1.2.0",
      "_model_name": "LayoutModel",
      "_view_count": null,
      "_view_module": "@jupyter-widgets/base",
      "_view_module_version": "1.2.0",
      "_view_name": "LayoutView",
      "align_content": null,
      "align_items": null,
      "align_self": null,
      "border": null,
      "bottom": null,
      "display": null,
      "flex": null,
      "flex_flow": null,
      "grid_area": null,
      "grid_auto_columns": null,
      "grid_auto_flow": null,
      "grid_auto_rows": null,
      "grid_column": null,
      "grid_gap": null,
      "grid_row": null,
      "grid_template_areas": null,
      "grid_template_columns": null,
      "grid_template_rows": null,
      "height": null,
      "justify_content": null,
      "justify_items": null,
      "left": null,
      "margin": null,
      "max_height": null,
      "max_width": null,
      "min_height": null,
      "min_width": null,
      "object_fit": null,
      "object_position": null,
      "order": null,
      "overflow": null,
      "overflow_x": null,
      "overflow_y": null,
      "padding": null,
      "right": null,
      "top": null,
      "visibility": null,
      "width": null
     }
    },
    "c81338551e60474fab9e9950fe5df294": {
     "model_module": "@jupyter-widgets/controls",
     "model_name": "HTMLModel",
     "state": {
      "_dom_classes": [],
      "_model_module": "@jupyter-widgets/controls",
      "_model_module_version": "1.5.0",
      "_model_name": "HTMLModel",
      "_view_count": null,
      "_view_module": "@jupyter-widgets/controls",
      "_view_module_version": "1.5.0",
      "_view_name": "HTMLView",
      "description": "",
      "description_tooltip": null,
      "layout": "IPY_MODEL_40c8d2617f3d4c84b923b140456fa5da",
      "placeholder": "​",
      "style": "IPY_MODEL_ad78042ee71a41fd989e4b4ce9d2e3c1",
      "value": " 230/230 [00:01&lt;00:00, 128B/s]"
     }
    },
    "cd64e3f20b23483daa79712bde6622ea": {
     "model_module": "@jupyter-widgets/controls",
     "model_name": "DescriptionStyleModel",
     "state": {
      "_model_module": "@jupyter-widgets/controls",
      "_model_module_version": "1.5.0",
      "_model_name": "DescriptionStyleModel",
      "_view_count": null,
      "_view_module": "@jupyter-widgets/base",
      "_view_module_version": "1.2.0",
      "_view_name": "StyleView",
      "description_width": ""
     }
    },
    "d0b9925f3dde46008bf186cf5ef7722d": {
     "model_module": "@jupyter-widgets/controls",
     "model_name": "IntProgressModel",
     "state": {
      "_dom_classes": [],
      "_model_module": "@jupyter-widgets/controls",
      "_model_module_version": "1.5.0",
      "_model_name": "IntProgressModel",
      "_view_count": null,
      "_view_module": "@jupyter-widgets/controls",
      "_view_module_version": "1.5.0",
      "_view_name": "ProgressView",
      "bar_style": "success",
      "description": "Downloading: 100%",
      "description_tooltip": null,
      "layout": "IPY_MODEL_23377596349e40a89ea57c8558660073",
      "max": 230,
      "min": 0,
      "orientation": "horizontal",
      "style": "IPY_MODEL_1eb2fa080ec44f8c8d5f6f52900277ab",
      "value": 230
     }
    },
    "d305ba1662e3466c93ab5cca7ebf8f33": {
     "model_module": "@jupyter-widgets/controls",
     "model_name": "DescriptionStyleModel",
     "state": {
      "_model_module": "@jupyter-widgets/controls",
      "_model_module_version": "1.5.0",
      "_model_name": "DescriptionStyleModel",
      "_view_count": null,
      "_view_module": "@jupyter-widgets/base",
      "_view_module_version": "1.2.0",
      "_view_name": "StyleView",
      "description_width": ""
     }
    },
    "d6228324f3444aa6bd1323d65ae4ff75": {
     "model_module": "@jupyter-widgets/base",
     "model_name": "LayoutModel",
     "state": {
      "_model_module": "@jupyter-widgets/base",
      "_model_module_version": "1.2.0",
      "_model_name": "LayoutModel",
      "_view_count": null,
      "_view_module": "@jupyter-widgets/base",
      "_view_module_version": "1.2.0",
      "_view_name": "LayoutView",
      "align_content": null,
      "align_items": null,
      "align_self": null,
      "border": null,
      "bottom": null,
      "display": null,
      "flex": null,
      "flex_flow": null,
      "grid_area": null,
      "grid_auto_columns": null,
      "grid_auto_flow": null,
      "grid_auto_rows": null,
      "grid_column": null,
      "grid_gap": null,
      "grid_row": null,
      "grid_template_areas": null,
      "grid_template_columns": null,
      "grid_template_rows": null,
      "height": null,
      "justify_content": null,
      "justify_items": null,
      "left": null,
      "margin": null,
      "max_height": null,
      "max_width": null,
      "min_height": null,
      "min_width": null,
      "object_fit": null,
      "object_position": null,
      "order": null,
      "overflow": null,
      "overflow_x": null,
      "overflow_y": null,
      "padding": null,
      "right": null,
      "top": null,
      "visibility": null,
      "width": null
     }
    },
    "d79946ac16ea4855a0bbe2ca2a4d4bf5": {
     "model_module": "@jupyter-widgets/controls",
     "model_name": "TextareaModel",
     "state": {
      "_dom_classes": [],
      "_model_module": "@jupyter-widgets/controls",
      "_model_module_version": "1.5.0",
      "_model_name": "TextareaModel",
      "_view_count": null,
      "_view_module": "@jupyter-widgets/controls",
      "_view_module_version": "1.5.0",
      "_view_name": "TextareaView",
      "continuous_update": true,
      "description": "Context:",
      "description_tooltip": null,
      "disabled": false,
      "layout": "IPY_MODEL_a02164204f0f43668bc36a907e720af7",
      "placeholder": "Enter something",
      "rows": null,
      "style": "IPY_MODEL_ab5774ac19f84ab18ddf09a63433df00",
      "value": "Einstein is famous for the general theory of relativity"
     }
    },
    "e05c0ec3b49e4d4990a943d428532fb0": {
     "model_module": "@jupyter-widgets/controls",
     "model_name": "ProgressStyleModel",
     "state": {
      "_model_module": "@jupyter-widgets/controls",
      "_model_module_version": "1.5.0",
      "_model_name": "ProgressStyleModel",
      "_view_count": null,
      "_view_module": "@jupyter-widgets/base",
      "_view_module_version": "1.2.0",
      "_view_name": "StyleView",
      "bar_color": null,
      "description_width": "initial"
     }
    },
    "e3f72d443a74414ca62c2b848d34b125": {
     "model_module": "@jupyter-widgets/controls",
     "model_name": "ProgressStyleModel",
     "state": {
      "_model_module": "@jupyter-widgets/controls",
      "_model_module_version": "1.5.0",
      "_model_name": "ProgressStyleModel",
      "_view_count": null,
      "_view_module": "@jupyter-widgets/base",
      "_view_module_version": "1.2.0",
      "_view_name": "StyleView",
      "bar_color": null,
      "description_width": "initial"
     }
    },
    "ee6c95e700e64d0a9ebec2c1545dd083": {
     "model_module": "@jupyter-widgets/controls",
     "model_name": "HTMLModel",
     "state": {
      "_dom_classes": [],
      "_model_module": "@jupyter-widgets/controls",
      "_model_module_version": "1.5.0",
      "_model_name": "HTMLModel",
      "_view_count": null,
      "_view_module": "@jupyter-widgets/controls",
      "_view_module_version": "1.5.0",
      "_view_name": "HTMLView",
      "description": "",
      "description_tooltip": null,
      "layout": "IPY_MODEL_67cbaa1f55d24e62ad6b022af36bca56",
      "placeholder": "​",
      "style": "IPY_MODEL_cd64e3f20b23483daa79712bde6622ea",
      "value": " 230/230 [00:02&lt;00:00, 85.4B/s]"
     }
    },
    "f2a1b430594b4736879cdff4ec532098": {
     "model_module": "@jupyter-widgets/controls",
     "model_name": "IntProgressModel",
     "state": {
      "_dom_classes": [],
      "_model_module": "@jupyter-widgets/controls",
      "_model_module_version": "1.5.0",
      "_model_name": "IntProgressModel",
      "_view_count": null,
      "_view_module": "@jupyter-widgets/controls",
      "_view_module_version": "1.5.0",
      "_view_name": "ProgressView",
      "bar_style": "success",
      "description": "Downloading: 100%",
      "description_tooltip": null,
      "layout": "IPY_MODEL_8c0e1b7fb6ac4ee7bbbaf6020b40cc77",
      "max": 230,
      "min": 0,
      "orientation": "horizontal",
      "style": "IPY_MODEL_98563b405bd043a9a301a43909e43157",
      "value": 230
     }
    },
    "fd44cf6ab17e4b768b2e1d5cb8ce5af9": {
     "model_module": "@jupyter-widgets/controls",
     "model_name": "HBoxModel",
     "state": {
      "_dom_classes": [],
      "_model_module": "@jupyter-widgets/controls",
      "_model_module_version": "1.5.0",
      "_model_name": "HBoxModel",
      "_view_count": null,
      "_view_module": "@jupyter-widgets/controls",
      "_view_module_version": "1.5.0",
      "_view_name": "HBoxView",
      "box_style": "",
      "children": [
       "IPY_MODEL_2015cd9c1da9467290ecd9019af231eb",
       "IPY_MODEL_17bacdaee55b43e8977c4dfe4f7245bb"
      ],
      "layout": "IPY_MODEL_b8c0ea31578d4eaaa69251d0004fd8c6"
     }
    }
   }
  }
 },
 "nbformat": 4,
 "nbformat_minor": 2
}
